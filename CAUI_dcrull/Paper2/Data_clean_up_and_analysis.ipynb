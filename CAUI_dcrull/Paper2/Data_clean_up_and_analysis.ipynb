{
 "cells": [
  {
   "cell_type": "code",
   "execution_count": 1,
   "metadata": {
    "collapsed": false
   },
   "outputs": [
    {
     "name": "stdout",
     "output_type": "stream",
     "text": [
      "Populating the interactive namespace from numpy and matplotlib\n"
     ]
    }
   ],
   "source": [
    "import pandas as pd\n",
    "import numpy as np\n",
    "import urllib2\n",
    "import csv\n",
    "import pylab as pl\n",
    "import scipy.stats\n",
    "import statsmodels.api as sm\n",
    "import statsmodels.formula.api as smf\n",
    "%pylab inline"
   ]
  },
  {
   "cell_type": "code",
   "execution_count": 2,
   "metadata": {
    "collapsed": true
   },
   "outputs": [],
   "source": [
    "# download city population estimate into database \n",
    "# from here: https://www.census.gov/popest/data/metro/totals/2014/index.html\n",
    "# cut off at 100,000 population\n",
    "df = pd.read_csv('100cities.csv')\n",
    "\n",
    "# clean up data\n",
    "df['Geography'] = df['Geography'].map(lambda x: x.replace('Metro Area',''))\n",
    "df['Geography'] = df['Geography'].map(lambda x: x.replace('Micro Area',''))\n",
    "df['Geography'] = df['Geography'].map(lambda x: x.replace('Metro Division', ''))\n",
    "df['Geography'] = df['Geography'].map(lambda x: x.rstrip())\n",
    "df['Geography'] = df['Geography'].map(lambda x: x.lstrip())\n",
    "df['CBSA Title'] = df['Geography']\n",
    "del df['Geography']"
   ]
  },
  {
   "cell_type": "code",
   "execution_count": 3,
   "metadata": {
    "collapsed": false
   },
   "outputs": [],
   "source": [
    "# download list of counties per CSA (caveat that csa's are derived with 2013 population estimates)\n",
    "df2 = pd.read_csv('CensusCSA.csv', header = 2, usecols = ['CBSA Title', \n",
    "                                                          'CSA Code', \n",
    "                                                          'Metropolitan/Micropolitan Statistical Area', \n",
    "                                                          'CSA Title', \"County/County Equivalent\", \n",
    "                                                          'State Name', \"FIPS County Code\", \n",
    "                                                          \"Central/Outlying County\"])"
   ]
  },
  {
   "cell_type": "code",
   "execution_count": 4,
   "metadata": {
    "collapsed": false
   },
   "outputs": [],
   "source": [
    "# merge the datasets\n",
    "city_counties = pd.merge(df2, df, on='CBSA Title')\n",
    "# remove puerto rico\n",
    "city_counties = city_counties[city_counties['State Name'] != 'Puerto Rico']"
   ]
  },
  {
   "cell_type": "code",
   "execution_count": 5,
   "metadata": {
    "collapsed": false
   },
   "outputs": [],
   "source": [
    "# download 2002 popution for all counties all states\n",
    "state_pop = pd.read_csv('county_pop2002.csv')"
   ]
  },
  {
   "cell_type": "code",
   "execution_count": 6,
   "metadata": {
    "collapsed": false
   },
   "outputs": [],
   "source": [
    "# download updated city_county with concatenated state+county FIPS\n",
    "county_pop = pd.read_csv('csa_counties.csv')"
   ]
  },
  {
   "cell_type": "code",
   "execution_count": 7,
   "metadata": {
    "collapsed": false
   },
   "outputs": [],
   "source": [
    "# merge the top cities' counties with the 2002 population data\n",
    "city_county_pop = pd.merge(county_pop, state_pop, on = 'STCOU')\n",
    "city_county_pop['FIPS'] = city_county_pop['STCOU']"
   ]
  },
  {
   "cell_type": "code",
   "execution_count": 8,
   "metadata": {
    "collapsed": true
   },
   "outputs": [],
   "source": [
    "# download the Vulcan energy data\n",
    "energy = pd.read_csv('county_sector.csv', \n",
    "                     usecols=['State',' County', \n",
    "                              ' FIPS', ' Total', 'Commercial', \n",
    "                              'Industrial','Residential',\n",
    "                              'Electricity Prod','Onroad', \n",
    "                              'Cement','Aircraft','Nonroad','Airborne'])\n",
    "\n",
    "energy['FIPS'] = energy[' FIPS']"
   ]
  },
  {
   "cell_type": "code",
   "execution_count": 9,
   "metadata": {
    "collapsed": true
   },
   "outputs": [],
   "source": [
    "#merge census data with the energy data\n",
    "city_energy = pd.merge(energy, city_county_pop, on = 'FIPS')"
   ]
  },
  {
   "cell_type": "code",
   "execution_count": 10,
   "metadata": {
    "collapsed": true
   },
   "outputs": [],
   "source": [
    "# download county area data\n",
    "county_area = pd.read_csv('county_area.csv', usecols = ['USPS', 'FIPS', 'NAME', 'ALAND','ALAND_SQMI'])"
   ]
  },
  {
   "cell_type": "markdown",
   "metadata": {},
   "source": [
    "# Start here to re-create 'df_master'"
   ]
  },
  {
   "cell_type": "code",
   "execution_count": 11,
   "metadata": {
    "collapsed": true
   },
   "outputs": [],
   "source": [
    "# merge to create master file\n",
    "df_master = pd.merge(city_energy, county_area, on = 'FIPS')"
   ]
  },
  {
   "cell_type": "code",
   "execution_count": 12,
   "metadata": {
    "collapsed": false
   },
   "outputs": [],
   "source": [
    "# clean and rename columns\n",
    "del df_master[' County']\n",
    "del df_master[' FIPS']\n",
    "del df_master['Areaname']\n",
    "del df_master['USPS']\n",
    "del df_master['STCOU']\n",
    "del df_master['county_state']\n",
    "del df_master['State Code']\n",
    "del df_master['State Name']\n",
    "del df_master['County/County Equivalent']\n",
    "del df_master['FIPS County Code']\n",
    "del df_master['ALAND']\n",
    "df_master = df_master.rename(columns = {'State': 'state', ' Total': 'tot_co2',\n",
    "                    'Metropolitan/Micropolitan Statistical Area': 'MSAMCA',\n",
    "                    'Central/Outlying County': 'center-outer', '2014 estimate': 'city_pop2014',\n",
    "                    'PST045202D': 'county_pop2002', 'NAME': 'county',\n",
    "                    'ALAND_SQMI': 'county_land_area_sqmi', 'Geography': 'CBSA'})"
   ]
  },
  {
   "cell_type": "code",
   "execution_count": 13,
   "metadata": {
    "collapsed": false
   },
   "outputs": [],
   "source": [
    "# re-scale emission units to tons from millions of tons\n",
    "# more column clean up\n",
    "df_master['tot_co2'] = df_master['tot_co2']*1000000\n",
    "df_master['Commercial'] = df_master['Commercial']*1000000\n",
    "df_master['Industrial'] = df_master['Industrial']*1000000\n",
    "df_master['Residential'] = df_master['Residential']*1000000\n",
    "df_master['Electricity Prod'] = df_master['Electricity Prod']*1000000\n",
    "df_master['Onroad'] = df_master['Onroad']*1000000\n",
    "df_master['Cement'] = df_master['Cement']*1000000\n",
    "df_master['Aircraft'] = df_master['Aircraft']*1000000\n",
    "df_master['Airborne'] = df_master['Airborne']*1000000\n",
    "df_master['Nonroad'] = df_master['Nonroad']*1000000"
   ]
  },
  {
   "cell_type": "code",
   "execution_count": 14,
   "metadata": {
    "collapsed": false
   },
   "outputs": [],
   "source": [
    "# conversions to top level city designation: CSA or CBSA\n",
    "df_master['convert'] = df_master['CSA Title'].apply(lambda x: str(x))\n",
    "df_master.ix[df_master['convert'] != 'nan', 'PSA'] = df_master['CSA Title']\n",
    "df_master.ix[df_master['convert'] == 'nan', 'PSA'] = df_master['CBSA Title']\n",
    "df_master.ix[df_master['convert'] != 'nan', 'CSA'] = True\n",
    "df_master.ix[df_master['convert'] == 'nan', 'CSA'] = False\n",
    "del df_master['convert']\n",
    "del df_master['CSA Title']"
   ]
  },
  {
   "cell_type": "markdown",
   "metadata": {},
   "source": [
    "##County"
   ]
  },
  {
   "cell_type": "code",
   "execution_count": 15,
   "metadata": {
    "collapsed": false
   },
   "outputs": [],
   "source": [
    "# county density\n",
    "df_master['county_d'] = df_master['county_pop2002']*1.0/df_master['county_land_area_sqmi']\n",
    "\n",
    "# county per capita\n",
    "df_master['co2_pc'] = df_master['county_pop2002']*1.0/df_master['tot_co2']\n",
    "\n",
    "# county per capita electric\n",
    "df_master['county_elec_pc'] = df_master['Electricity Prod']*1.0/df_master['county_pop2002']"
   ]
  },
  {
   "cell_type": "markdown",
   "metadata": {},
   "source": [
    "##Central vs Outlying"
   ]
  },
  {
   "cell_type": "code",
   "execution_count": 16,
   "metadata": {
    "collapsed": false
   },
   "outputs": [
    {
     "name": "stdout",
     "output_type": "stream",
     "text": [
      "744 452\n"
     ]
    }
   ],
   "source": [
    "# create central and outlying datasets\n",
    "dfc = df_master[df_master['center-outer'] == \"Central\"]\n",
    "dfo = df_master[df_master['center-outer'] == 'Outlying']\n",
    "print len(dfc), len(dfo)"
   ]
  },
  {
   "cell_type": "markdown",
   "metadata": {},
   "source": [
    "##PSA (CSA + CBSA)"
   ]
  },
  {
   "cell_type": "code",
   "execution_count": 17,
   "metadata": {
    "collapsed": false
   },
   "outputs": [],
   "source": [
    "# csa city pop\n",
    "csa_p = df_master['county_pop2002'].groupby(df_master['PSA']).sum()\n",
    "csa_a = df_master['county_land_area_sqmi'].groupby(df_master['PSA']).sum()\n",
    "csa_d = csa_p*1.0/csa_a\n",
    "\n",
    "# csa city emissions\n",
    "csa_co2 = df_master['tot_co2'].groupby(df_master['PSA']).sum()\n",
    "csa_pc = csa_co2*1.0/csa_p\n",
    "\n",
    "#csa electricity\n",
    "csa_elec = df_master['Electricity Prod'].groupby(df_master['PSA']).sum()\n",
    "csa_elec_pc = csa_elec*1.0/csa_p"
   ]
  },
  {
   "cell_type": "markdown",
   "metadata": {},
   "source": [
    "# Descriptive Stats"
   ]
  },
  {
   "cell_type": "code",
   "execution_count": 18,
   "metadata": {
    "collapsed": false
   },
   "outputs": [
    {
     "data": {
      "text/plain": [
       "count    271.000000\n",
       "mean       6.460664\n",
       "std        7.194530\n",
       "min        1.623466\n",
       "25%        3.142061\n",
       "50%        4.147853\n",
       "75%        6.468026\n",
       "max       71.474772\n",
       "dtype: float64"
      ]
     },
     "execution_count": 18,
     "metadata": {},
     "output_type": "execute_result"
    }
   ],
   "source": [
    "csa_pc.describe()"
   ]
  },
  {
   "cell_type": "markdown",
   "metadata": {},
   "source": [
    "##CBSA"
   ]
  },
  {
   "cell_type": "code",
   "execution_count": 19,
   "metadata": {
    "collapsed": false
   },
   "outputs": [],
   "source": [
    "# cbsa city pop\n",
    "cbsa_p = df_master['county_pop2002'].groupby(df_master['CBSA']).sum()\n",
    "cbsa_a = df_master['county_land_area_sqmi'].groupby(df_master['CBSA']).sum()\n",
    "cbsa_d = cbsa_p*1.0/cbsa_a\n",
    "\n",
    "# cbsa city emissions\n",
    "cbsa_co2 = df_master['tot_co2'].groupby(df_master['CBSA']).sum()\n",
    "cbsa_pc = cbsa_co2*1.0/cbsa_p\n",
    "\n",
    "# cbsa electricity\n",
    "cbsa_elec = df_master['Electricity Prod'].groupby(df_master['CBSA']).sum()\n",
    "cbsa_elec_pc = cbsa_elec*1.0/cbsa_p"
   ]
  },
  {
   "cell_type": "markdown",
   "metadata": {},
   "source": [
    "#**CBSA"
   ]
  },
  {
   "cell_type": "code",
   "execution_count": 20,
   "metadata": {
    "collapsed": false
   },
   "outputs": [],
   "source": [
    "# set x and y\n",
    "ind_var = cbsa_d\n",
    "dep_var = cbsa_pc\n",
    "\n",
    "xy = pd.concat([ind_var, dep_var], axis=1)\n",
    "xy = xy.rename(columns = {0: 'ind_var', 1: 'dep_var'})\n",
    "\n",
    "# remove outliers -z3 < cut > z3\n",
    "#xthreshold = xy.ind_var.mean()+xy.ind_var.std()*3,xy.ind_var.mean()-xy.ind_var.std()*3\n",
    "#ythreshold = xy.dep_var.mean()+xy.dep_var.std()*3, xy.dep_var.mean()-xy.dep_var.std()*3\n",
    "#xy_cut = xy[(xy.ind_var < xthreshold[0]) & (xy.ind_var > xthreshold[1])]\n",
    "#xy_cut = xy_cut[(xy_cut.dep_var < ythreshold[0]) & (xy_cut.dep_var > ythreshold[1])]\n",
    "\n",
    "xy_cut = xy\n",
    "# log10\n",
    "xy_cut['xlog'] = np.log10(xy_cut.ind_var)\n",
    "xy_cut['ylog'] = np.log10(xy_cut.dep_var)"
   ]
  },
  {
   "cell_type": "markdown",
   "metadata": {},
   "source": [
    "#Linear or polynomial regression CBSA"
   ]
  },
  {
   "cell_type": "code",
   "execution_count": 21,
   "metadata": {
    "collapsed": false
   },
   "outputs": [
    {
     "name": "stdout",
     "output_type": "stream",
     "text": [
      "Log-likelihood for 1 degree fit of least squares is: -49.5517496128\n",
      "Log-likelihood for 2 degree fit of least squares is: -49.2725764674\n",
      "\n",
      "\n",
      "1DEG is best fit: 0.558346290826 is < 3.84\n",
      "\n",
      "                            OLS Regression Results                            \n",
      "==============================================================================\n",
      "Dep. Variable:                   ylog   R-squared:                       0.034\n",
      "Model:                            OLS   Adj. R-squared:                  0.031\n",
      "Method:                 Least Squares   F-statistic:                     13.12\n",
      "Date:                Fri, 20 Nov 2015   Prob (F-statistic):           0.000332\n",
      "Time:                        05:23:40   Log-Likelihood:                -49.552\n",
      "No. Observations:                 379   AIC:                             103.1\n",
      "Df Residuals:                     377   BIC:                             111.0\n",
      "Df Model:                           1                                         \n",
      "Covariance Type:            nonrobust                                         \n",
      "==============================================================================\n",
      "                 coef    std err          t      P>|t|      [95.0% Conf. Int.]\n",
      "------------------------------------------------------------------------------\n",
      "const          0.9468      0.080     11.882      0.000         0.790     1.103\n",
      "xlog          -0.1279      0.035     -3.622      0.000        -0.197    -0.058\n",
      "==============================================================================\n",
      "Omnibus:                       84.679   Durbin-Watson:                   2.065\n",
      "Prob(Omnibus):                  0.000   Jarque-Bera (JB):              148.198\n",
      "Skew:                           1.276   Prob(JB):                     6.60e-33\n",
      "Kurtosis:                       4.695   Cond. No.                         15.1\n",
      "==============================================================================\n",
      "\n",
      "Warnings:\n",
      "[1] Standard Errors assume that the covariance matrix of the errors is correctly specified.\n"
     ]
    }
   ],
   "source": [
    "# 1 degree line regression = least squares\n",
    "\n",
    "X = sm.add_constant(xy_cut.xlog)\n",
    "fit1 = sm.OLS(xy_cut.ylog, X, missing='drop').fit()\n",
    "\n",
    "print \"Log-likelihood for 1 degree fit of least squares is: {}\".format(fit1.llf)\n",
    "\n",
    "# 2 degree line regression\n",
    "curve = smf.ols(formula = \"y ~ x1 + I(x1) + I((x1**2))\", \n",
    "        data={'x1':xy_cut.xlog,'y': xy_cut.ylog}).fit()\n",
    "\n",
    "print \"Log-likelihood for 2 degree fit of least squares is: {}\".format(curve.llf)\n",
    "# determine better model with loglikelihood ratio\n",
    "lrt = -2*(fit1.llf - curve.llf)\n",
    "print '\\n'\n",
    "if lrt > 3.84:\n",
    "    print 'CURVE is best fit: {} is > 3.84\\n'.format(lrt)\n",
    "    print curve.summary()\n",
    "else:\n",
    "    print '1DEG is best fit: {} is < 3.84\\n'.format(lrt)\n",
    "    print fit1.summary()"
   ]
  },
  {
   "cell_type": "markdown",
   "metadata": {},
   "source": [
    "#PLOT CBSA"
   ]
  },
  {
   "cell_type": "code",
   "execution_count": 22,
   "metadata": {
    "collapsed": false
   },
   "outputs": [
    {
     "data": {
      "text/plain": [
       "<matplotlib.legend.Legend at 0x108d0fc10>"
      ]
     },
     "execution_count": 22,
     "metadata": {},
     "output_type": "execute_result"
    },
    {
     "data": {
      "text/plain": [
       "<matplotlib.figure.Figure at 0x103976b10>"
      ]
     },
     "metadata": {},
     "output_type": "display_data"
    },
    {
     "data": {
      "image/png": "[encoded data removed]",
      "text/plain": [
       "<matplotlib.figure.Figure at 0x103976fd0>"
      ]
     },
     "metadata": {},
     "output_type": "display_data"
    }
   ],
   "source": [
    "fig = pl.figure(figsize=(15,15))\n",
    "xy_cut.plot(kind = 'scatter', x = 'xlog', y = 'ylog', figsize = (15,15))\n",
    "plot(xy_cut.xlog, fit1.predict(), 'k', label=\"l degree\")\n",
    "#plot(xy_cut.xlog, curve.predict(), 'ro', label=\"2 degree\")\n",
    "pl.title(\"Carbon emissions per capita vs city (CBSA) density\", fontsize = 20)\n",
    "pl.xlabel(\"City (CBSA) density (person/sq mile, logscale)\", fontsize=20)\n",
    "pl.ylabel(\"Carbon emissions per capita (tons/person, logscale)\", fontsize=20)\n",
    "pl.legend()"
   ]
  },
  {
   "cell_type": "markdown",
   "metadata": {},
   "source": [
    "# CBSA Supplementary Pearson correlation"
   ]
  },
  {
   "cell_type": "code",
   "execution_count": 23,
   "metadata": {
    "collapsed": false
   },
   "outputs": [
    {
     "name": "stdout",
     "output_type": "stream",
     "text": [
      "The Pearson r coefficient is -0.183395437944. Is the 2-tailed p-value of 0.000331921904215 smaller than 0.05?\n",
      "Yes.\n",
      "The correlation is significant at the 0.05 alpha level.\n"
     ]
    }
   ],
   "source": [
    "# conducting Pearson's test\n",
    "pearson = scipy.stats.pearsonr(xy_cut.xlog, xy_cut.ylog)\n",
    "pearson_alpha = 0.05\n",
    "\n",
    "r,p = pearson\n",
    "def pearson_results(r,p,a):\n",
    "    print(\"The Pearson r coefficient is {}. Is the 2-tailed p-value of {} smaller than {}?\".format(r,p,a))\n",
    "    if p<a:\n",
    "        print (\"Yes.\")\n",
    "    else:\n",
    "        print (\"Nope.\")\n",
    "    \n",
    "    print ('The correlation is {} at the {} alpha level.'.format(('significant' if p<a  else 'not significant'),a)) \n",
    "\n",
    "pearson_results(r,p,pearson_alpha)"
   ]
  },
  {
   "cell_type": "markdown",
   "metadata": {},
   "source": [
    "#**PSA"
   ]
  },
  {
   "cell_type": "code",
   "execution_count": 24,
   "metadata": {
    "collapsed": false
   },
   "outputs": [],
   "source": [
    "# set x and y\n",
    "ind_var2 = csa_d\n",
    "dep_var2 = csa_pc\n",
    "\n",
    "xy2 = pd.concat([ind_var2, dep_var2], axis=1)\n",
    "xy2 = xy2.rename(columns = {0: 'ind_var', 1: 'dep_var'})\n",
    "\n",
    "# remove outliers -z3 < cut > z3\n",
    "#xthreshold2 = xy2.ind_var.mean()+xy2.ind_var.std()*3,xy2.ind_var.mean()-xy2.ind_var.std()*3\n",
    "#ythreshold2 = xy2.dep_var.mean()+xy2.dep_var.std()*3, xy2.dep_var.mean()-xy2.dep_var.std()*3\n",
    "#xy_cut2 = xy2[(xy2.ind_var < xthreshold2[0]) & (xy2.ind_var > xthreshold2[1])]\n",
    "#xy_cut2 = xy_cut2[(xy_cut2.dep_var < ythreshold2[0]) & (xy_cut2.dep_var > ythreshold2[1])]\n",
    "\n",
    "# log10\n",
    "xy_cut2 = xy2\n",
    "xy_cut2['xlog'] = np.log10(xy_cut2.ind_var)\n",
    "xy_cut2['ylog'] = np.log10(xy_cut2.dep_var)"
   ]
  },
  {
   "cell_type": "markdown",
   "metadata": {},
   "source": [
    "#Linear or polynomial regression PSA"
   ]
  },
  {
   "cell_type": "code",
   "execution_count": 25,
   "metadata": {
    "collapsed": false
   },
   "outputs": [
    {
     "name": "stdout",
     "output_type": "stream",
     "text": [
      "Log-likelihood for 1 degree fit of least squares is: -35.2553470198\n",
      "Log-likelihood for 2 degree fit of least squares is: -34.7068406229\n",
      "\n",
      "\n",
      "1DEG is best fit: 1.09701279382 is < 3.84\n",
      "\n",
      "                            OLS Regression Results                            \n",
      "==============================================================================\n",
      "Dep. Variable:                   ylog   R-squared:                       0.025\n",
      "Model:                            OLS   Adj. R-squared:                  0.021\n",
      "Method:                 Least Squares   F-statistic:                     6.768\n",
      "Date:                Fri, 20 Nov 2015   Prob (F-statistic):            0.00980\n",
      "Time:                        05:23:45   Log-Likelihood:                -35.255\n",
      "No. Observations:                 271   AIC:                             74.51\n",
      "Df Residuals:                     269   BIC:                             81.71\n",
      "Df Model:                           1                                         \n",
      "Covariance Type:            nonrobust                                         \n",
      "==============================================================================\n",
      "                 coef    std err          t      P>|t|      [95.0% Conf. Int.]\n",
      "------------------------------------------------------------------------------\n",
      "const          0.9337      0.095      9.848      0.000         0.747     1.120\n",
      "xlog          -0.1125      0.043     -2.601      0.010        -0.198    -0.027\n",
      "==============================================================================\n",
      "Omnibus:                       50.475   Durbin-Watson:                   1.922\n",
      "Prob(Omnibus):                  0.000   Jarque-Bera (JB):               75.400\n",
      "Skew:                           1.126   Prob(JB):                     4.24e-17\n",
      "Kurtosis:                       4.266   Cond. No.                         14.9\n",
      "==============================================================================\n",
      "\n",
      "Warnings:\n",
      "[1] Standard Errors assume that the covariance matrix of the errors is correctly specified.\n"
     ]
    }
   ],
   "source": [
    "# 1 degree line regression = least squares\n",
    "\n",
    "X2 = sm.add_constant(xy_cut2.xlog)\n",
    "fit12 = sm.OLS(xy_cut2.ylog, X2, missing='drop').fit()\n",
    "\n",
    "print \"Log-likelihood for 1 degree fit of least squares is: {}\".format(fit12.llf)\n",
    "\n",
    "# 2 degree line regression\n",
    "curve2 = smf.ols(formula = \"y ~ x1 + I(x1) + I((x1**2))\", \n",
    "        data={'x1':xy_cut2.xlog,'y': xy_cut2.ylog}).fit()\n",
    "\n",
    "print \"Log-likelihood for 2 degree fit of least squares is: {}\".format(curve2.llf)\n",
    "# determine better model with loglikelihood ratio\n",
    "lrt2 = -2*(fit12.llf - curve2.llf)\n",
    "print '\\n'\n",
    "if lrt2 > 3.84:\n",
    "    print 'CURVE is best fit: {} is > 3.84\\n'.format(lrt2)\n",
    "    print curve2.summary()\n",
    "else:\n",
    "    print '1DEG is best fit: {} is < 3.84\\n'.format(lrt2)\n",
    "    print fit12.summary()"
   ]
  },
  {
   "cell_type": "markdown",
   "metadata": {},
   "source": [
    "#PLOT PSA"
   ]
  },
  {
   "cell_type": "code",
   "execution_count": 26,
   "metadata": {
    "collapsed": false
   },
   "outputs": [
    {
     "data": {
      "text/plain": [
       "<matplotlib.figure.Figure at 0x108dad090>"
      ]
     },
     "metadata": {},
     "output_type": "display_data"
    },
    {
     "data": {
      "image/png": "[encoded data removed]",
      "text/plain": [
       "<matplotlib.figure.Figure at 0x108d8a190>"
      ]
     },
     "metadata": {},
     "output_type": "display_data"
    }
   ],
   "source": [
    "fig = pl.figure(figsize=(15,15))\n",
    "xy_cut2.plot(kind = 'scatter', x = 'xlog', y = 'ylog', figsize = (15,15))\n",
    "plot(xy_cut2.xlog, fit12.predict(), 'r', label=\"Linear regression emissions vs pop density\")\n",
    "#plot(xy_cut2.xlog, curve2.predict(), 'ro', label=\"2 degree\")\n",
    "pl.title(\"Carbon emissions per capita vs city (PSA) density\", fontsize = 20)\n",
    "pl.xlabel(\"City (PSA) density (person/sq mile, logscale)\", fontsize=20)\n",
    "pl.ylabel(\"Carbon emissions per capita (tons/person, logscale)\", fontsize=20)\n",
    "pl.legend()\n",
    "pl.show()"
   ]
  },
  {
   "cell_type": "markdown",
   "metadata": {},
   "source": [
    "# PSA Pearson"
   ]
  },
  {
   "cell_type": "code",
   "execution_count": 27,
   "metadata": {
    "collapsed": false
   },
   "outputs": [
    {
     "name": "stdout",
     "output_type": "stream",
     "text": [
      "The Pearson r coefficient is -0.156657581574. Is the 2-tailed p-value of 0.00979578255677 smaller than 0.05?\n",
      "Yes.\n",
      "The correlation is significant at the 0.05 alpha level.\n"
     ]
    }
   ],
   "source": [
    "# conducting Pearson's test\n",
    "pearson2 = scipy.stats.pearsonr(xy_cut2.xlog, xy_cut2.ylog)\n",
    "pearson_alpha = 0.05\n",
    "\n",
    "r,p = pearson2\n",
    "def pearson_results2(r,p,a):\n",
    "    print(\"The Pearson r coefficient is {}. Is the 2-tailed p-value of {} smaller than {}?\".format(r,p,a))\n",
    "    if p<a:\n",
    "        print (\"Yes.\")\n",
    "    else:\n",
    "        print (\"Nope.\")\n",
    "    \n",
    "    print ('The correlation is {} at the {} alpha level.'.format(('significant' if p<a  else 'not significant'),a)) \n",
    "\n",
    "pearson_results2(r,p,pearson_alpha)"
   ]
  },
  {
   "cell_type": "markdown",
   "metadata": {},
   "source": [
    "#**CBSA-POP"
   ]
  },
  {
   "cell_type": "code",
   "execution_count": 28,
   "metadata": {
    "collapsed": true
   },
   "outputs": [],
   "source": [
    "# set x and y\n",
    "ind_var3 = cbsa_p\n",
    "dep_var3 = cbsa_pc\n",
    "\n",
    "xy3 = pd.concat([ind_var3, dep_var3], axis=1)\n",
    "xy3 = xy3.rename(columns = {0: 'ind_var', 1: 'dep_var'})\n",
    "\n",
    "# remove outliers -z3 < cut > z3\n",
    "#xthreshold3 = xy3.ind_var.mean()+xy3.ind_var.std()*3,xy3.ind_var.mean()-xy3.ind_var.std()*3\n",
    "#ythreshold3 = xy3.dep_var.mean()+xy3.dep_var.std()*3, xy3.dep_var.mean()-xy3.dep_var.std()*3\n",
    "#xy_cut3 = xy3[(xy3.ind_var < xthreshold3[0]) & (xy3.ind_var > xthreshold3[1])]\n",
    "#xy_cut3 = xy_cut3[(xy_cut3.dep_var < ythreshold3[0]) & (xy_cut3.dep_var > ythreshold3[1])]\n",
    "\n",
    "# log10\n",
    "xy_cut3 = xy3\n",
    "xy_cut3['xlog'] = np.log10(xy_cut3.ind_var)\n",
    "xy_cut3['ylog'] = np.log10(xy_cut3.dep_var)"
   ]
  },
  {
   "cell_type": "markdown",
   "metadata": {},
   "source": [
    "#CBSA Linear Regression - POP"
   ]
  },
  {
   "cell_type": "code",
   "execution_count": 29,
   "metadata": {
    "collapsed": false
   },
   "outputs": [
    {
     "name": "stdout",
     "output_type": "stream",
     "text": [
      "Log-likelihood for 1 degree fit of least squares is: -54.2934683224\n",
      "Log-likelihood for 2 degree fit of least squares is: -53.7261958985\n",
      "\n",
      "\n",
      "1DEG is best fit: 1.1345448478 is < 3.84\n",
      "\n",
      "                            OLS Regression Results                            \n",
      "==============================================================================\n",
      "Dep. Variable:                   ylog   R-squared:                       0.009\n",
      "Model:                            OLS   Adj. R-squared:                  0.007\n",
      "Method:                 Least Squares   F-statistic:                     3.481\n",
      "Date:                Fri, 20 Nov 2015   Prob (F-statistic):             0.0629\n",
      "Time:                        05:23:51   Log-Likelihood:                -54.293\n",
      "No. Observations:                 379   AIC:                             112.6\n",
      "Df Residuals:                     377   BIC:                             120.5\n",
      "Df Model:                           1                                         \n",
      "Covariance Type:            nonrobust                                         \n",
      "==============================================================================\n",
      "                 coef    std err          t      P>|t|      [95.0% Conf. Int.]\n",
      "------------------------------------------------------------------------------\n",
      "const          0.9877      0.175      5.653      0.000         0.644     1.331\n",
      "xlog          -0.0594      0.032     -1.866      0.063        -0.122     0.003\n",
      "==============================================================================\n",
      "Omnibus:                       90.489   Durbin-Watson:                   2.033\n",
      "Prob(Omnibus):                  0.000   Jarque-Bera (JB):              165.800\n",
      "Skew:                           1.331   Prob(JB):                     9.93e-37\n",
      "Kurtosis:                       4.849   Cond. No.                         68.9\n",
      "==============================================================================\n",
      "\n",
      "Warnings:\n",
      "[1] Standard Errors assume that the covariance matrix of the errors is correctly specified.\n"
     ]
    }
   ],
   "source": [
    "# 1 degree line regression = least squares\n",
    "\n",
    "X3 = sm.add_constant(xy_cut3.xlog)\n",
    "fit13 = sm.OLS(xy_cut3.ylog, X3, missing='drop').fit()\n",
    "\n",
    "print \"Log-likelihood for 1 degree fit of least squares is: {}\".format(fit13.llf)\n",
    "\n",
    "# 2 degree line regression\n",
    "curve3 = smf.ols(formula = \"y ~ x1 + I(x1) + I((x1**2))\", \n",
    "        data={'x1':xy_cut3.xlog,'y': xy_cut3.ylog}).fit()\n",
    "\n",
    "print \"Log-likelihood for 2 degree fit of least squares is: {}\".format(curve3.llf)\n",
    "# determine better model with loglikelihood ratio\n",
    "lrt3 = -2*(fit13.llf - curve3.llf)\n",
    "print '\\n'\n",
    "if lrt3 > 3.84:\n",
    "    print 'CURVE is best fit: {} is > 3.84\\n'.format(lrt3)\n",
    "    print curve3.summary()\n",
    "else:\n",
    "    print '1DEG is best fit: {} is < 3.84\\n'.format(lrt3)\n",
    "    print fit13.summary()"
   ]
  },
  {
   "cell_type": "markdown",
   "metadata": {},
   "source": [
    "#PLOT CBSA POP"
   ]
  },
  {
   "cell_type": "code",
   "execution_count": 30,
   "metadata": {
    "collapsed": false
   },
   "outputs": [
    {
     "data": {
      "text/plain": [
       "<matplotlib.legend.Legend at 0x108f6a390>"
      ]
     },
     "execution_count": 30,
     "metadata": {},
     "output_type": "execute_result"
    },
    {
     "data": {
      "text/plain": [
       "<matplotlib.figure.Figure at 0x108bdd2d0>"
      ]
     },
     "metadata": {},
     "output_type": "display_data"
    },
    {
     "data": {
      "image/png": "[encoded data removed]",
      "text/plain": [
       "<matplotlib.figure.Figure at 0x108dfdc10>"
      ]
     },
     "metadata": {},
     "output_type": "display_data"
    }
   ],
   "source": [
    "fig = pl.figure(figsize=(15,15))\n",
    "xy_cut3.plot(kind = 'scatter', x = 'xlog', y = 'ylog', figsize = (15,15))\n",
    "plot(xy_cut3.xlog, fit13.predict(), 'r', label=\"Linear regression emissions vs pop\")\n",
    "#plot(xy_cut3.xlog, curve3.predict(), 'ro', label=\"2 degree\")\n",
    "pl.title(\"Carbon emissions per capita vs city (CBSA) population\", fontsize = 20)\n",
    "pl.xlabel(\"City (CBSA) population (log)\", fontsize=20)\n",
    "pl.ylabel(\"Carbon emissions per capita (tons/person, log)\", fontsize=20)\n",
    "pl.legend()"
   ]
  },
  {
   "cell_type": "markdown",
   "metadata": {},
   "source": [
    "# CBSA POP Pearson"
   ]
  },
  {
   "cell_type": "code",
   "execution_count": 31,
   "metadata": {
    "collapsed": false
   },
   "outputs": [
    {
     "name": "stdout",
     "output_type": "stream",
     "text": [
      "The Pearson r coefficient is -0.0956459806452. Is the 2-tailed p-value of 0.0628650850365 smaller than 0.05?\n",
      "Nope.\n",
      "The correlation is not significant at the 0.05 alpha level.\n"
     ]
    }
   ],
   "source": [
    "# conducting Pearson's test\n",
    "pearson3 = scipy.stats.pearsonr(xy_cut3.xlog, xy_cut3.ylog)\n",
    "pearson_alpha = 0.05\n",
    "\n",
    "r,p = pearson3\n",
    "def pearson_results3(r,p,a):\n",
    "    print(\"The Pearson r coefficient is {}. Is the 2-tailed p-value of {} smaller than {}?\".format(r,p,a))\n",
    "    if p<a:\n",
    "        print (\"Yes.\")\n",
    "    else:\n",
    "        print (\"Nope.\")\n",
    "    \n",
    "    print ('The correlation is {} at the {} alpha level.'.format(('significant' if p<a  else 'not significant'),a)) \n",
    "\n",
    "pearson_results3(r,p,pearson_alpha)"
   ]
  },
  {
   "cell_type": "markdown",
   "metadata": {},
   "source": [
    "#**PSA POP"
   ]
  },
  {
   "cell_type": "code",
   "execution_count": 32,
   "metadata": {
    "collapsed": false
   },
   "outputs": [],
   "source": [
    "# set x and y\n",
    "ind_var4 = csa_p\n",
    "dep_var4 = csa_pc\n",
    "\n",
    "xy4 = pd.concat([ind_var4, dep_var4], axis=1)\n",
    "xy4 = xy4.rename(columns = {0: 'ind_var', 1: 'dep_var'})\n",
    "\n",
    "# remove outliers -z3 < cut > z3\n",
    "#xthreshold4 = xy4.ind_var.mean()+xy4.ind_var.std()*3,xy4.ind_var.mean()-xy4.ind_var.std()*3\n",
    "#ythreshold4 = xy4.dep_var.mean()+xy4.dep_var.std()*3, xy4.dep_var.mean()-xy4.dep_var.std()*3\n",
    "#xy_cut4 = xy4[(xy4.ind_var < xthreshold4[0]) & (xy4.ind_var > xthreshold4[1])]\n",
    "#xy_cut4 = xy_cut4[(xy_cut4.dep_var < ythreshold4[0]) & (xy_cut4.dep_var > ythreshold4[1])]\n",
    "\n",
    "# log10\n",
    "xy_cut4 = xy4\n",
    "xy_cut4['xlog'] = np.log10(xy_cut4.ind_var)\n",
    "xy_cut4['ylog'] = np.log10(xy_cut4.dep_var)"
   ]
  },
  {
   "cell_type": "markdown",
   "metadata": {},
   "source": [
    "#PSA Linear Regression POP"
   ]
  },
  {
   "cell_type": "code",
   "execution_count": 33,
   "metadata": {
    "collapsed": false
   },
   "outputs": [
    {
     "name": "stdout",
     "output_type": "stream",
     "text": [
      "Log-likelihood for 1 degree fit of least squares is: -36.4032610649\n",
      "Log-likelihood for 2 degree fit of least squares is: -35.9614260201\n",
      "\n",
      "\n",
      "1DEG is best fit: 0.883670089571 is < 3.84\n",
      "\n",
      "                            OLS Regression Results                            \n",
      "==============================================================================\n",
      "Dep. Variable:                   ylog   R-squared:                       0.016\n",
      "Model:                            OLS   Adj. R-squared:                  0.013\n",
      "Method:                 Least Squares   F-statistic:                     4.441\n",
      "Date:                Fri, 20 Nov 2015   Prob (F-statistic):             0.0360\n",
      "Time:                        05:23:58   Log-Likelihood:                -36.403\n",
      "No. Observations:                 271   AIC:                             76.81\n",
      "Df Residuals:                     269   BIC:                             84.01\n",
      "Df Model:                           1                                         \n",
      "Covariance Type:            nonrobust                                         \n",
      "==============================================================================\n",
      "                 coef    std err          t      P>|t|      [95.0% Conf. Int.]\n",
      "------------------------------------------------------------------------------\n",
      "const          1.0860      0.188      5.770      0.000         0.715     1.456\n",
      "xlog          -0.0710      0.034     -2.107      0.036        -0.137    -0.005\n",
      "==============================================================================\n",
      "Omnibus:                       55.810   Durbin-Watson:                   1.903\n",
      "Prob(Omnibus):                  0.000   Jarque-Bera (JB):               88.804\n",
      "Skew:                           1.188   Prob(JB):                     5.21e-20\n",
      "Kurtosis:                       4.491   Cond. No.                         64.3\n",
      "==============================================================================\n",
      "\n",
      "Warnings:\n",
      "[1] Standard Errors assume that the covariance matrix of the errors is correctly specified.\n"
     ]
    }
   ],
   "source": [
    "# 1 degree line regression = least squares\n",
    "\n",
    "X4 = sm.add_constant(xy_cut4.xlog)\n",
    "fit14 = sm.OLS(xy_cut4.ylog, X4, missing='drop').fit()\n",
    "\n",
    "print \"Log-likelihood for 1 degree fit of least squares is: {}\".format(fit14.llf)\n",
    "\n",
    "# 2 degree line regression\n",
    "curve4 = smf.ols(formula = \"y ~ x1 + I(x1) + I((x1**2))\", \n",
    "        data={'x1':xy_cut4.xlog,'y': xy_cut4.ylog}).fit()\n",
    "\n",
    "print \"Log-likelihood for 2 degree fit of least squares is: {}\".format(curve4.llf)\n",
    "# determine better model with loglikelihood ratio\n",
    "lrt4 = -2*(fit14.llf - curve4.llf)\n",
    "print '\\n'\n",
    "if lrt4 > 3.84:\n",
    "    print 'CURVE is best fit: {} is > 3.84\\n'.format(lrt4)\n",
    "    print curve4.summary()\n",
    "else:\n",
    "    print '1DEG is best fit: {} is < 3.84\\n'.format(lrt4)\n",
    "    print fit14.summary()"
   ]
  },
  {
   "cell_type": "markdown",
   "metadata": {},
   "source": [
    "# PLOT PSA POP"
   ]
  },
  {
   "cell_type": "code",
   "execution_count": 34,
   "metadata": {
    "collapsed": false
   },
   "outputs": [
    {
     "data": {
      "text/plain": [
       "<matplotlib.legend.Legend at 0x1099decd0>"
      ]
     },
     "execution_count": 34,
     "metadata": {},
     "output_type": "execute_result"
    },
    {
     "data": {
      "text/plain": [
       "<matplotlib.figure.Figure at 0x10397d150>"
      ]
     },
     "metadata": {},
     "output_type": "display_data"
    },
    {
     "data": {
      "image/png": "[encoded data removed]",
      "text/plain": [
       "<matplotlib.figure.Figure at 0x108f15890>"
      ]
     },
     "metadata": {},
     "output_type": "display_data"
    }
   ],
   "source": [
    "fig = pl.figure(figsize=(15,15))\n",
    "xy_cut4.plot(kind = 'scatter', x = 'xlog', y = 'ylog', figsize = (15,15))\n",
    "plot(xy_cut4.xlog, fit14.predict(), 'r', label=\"Linear regression emissions vs pop\")\n",
    "#plot(xy_cut4.xlog, curve4.predict(), 'ro', label=\"2 degree\")\n",
    "pl.title(\"Carbon emissions per capita vs city (PSA) population\", fontsize = 20)\n",
    "pl.xlabel(\"City (PSA) population (log)\", fontsize=20)\n",
    "pl.ylabel(\"Carbon emissions per capita (tons/person, log)\", fontsize=20)\n",
    "pl.legend()"
   ]
  },
  {
   "cell_type": "markdown",
   "metadata": {},
   "source": [
    "#PSA POP Pearson"
   ]
  },
  {
   "cell_type": "code",
   "execution_count": 35,
   "metadata": {
    "collapsed": false
   },
   "outputs": [
    {
     "name": "stdout",
     "output_type": "stream",
     "text": [
      "The Pearson r coefficient is -0.127446903282. Is the 2-tailed p-value of 0.036002332743 smaller than 0.05?\n",
      "Yes.\n",
      "The correlation is significant at the 0.05 alpha level.\n"
     ]
    }
   ],
   "source": [
    "# conducting Pearson's test\n",
    "pearson4 = scipy.stats.pearsonr(xy_cut4.xlog, xy_cut4.ylog)\n",
    "pearson_alpha = 0.05\n",
    "\n",
    "r,p = pearson4\n",
    "def pearson_results4(r,p,a):\n",
    "    print(\"The Pearson r coefficient is {}. Is the 2-tailed p-value of {} smaller than {}?\".format(r,p,a))\n",
    "    if p<a:\n",
    "        print (\"Yes.\")\n",
    "    else:\n",
    "        print (\"Nope.\")\n",
    "    \n",
    "    print ('The correlation is {} at the {} alpha level.'.format(('significant' if p<a  else 'not significant'),a)) \n",
    "\n",
    "pearson_results4(r,p,pearson_alpha)"
   ]
  },
  {
   "cell_type": "code",
   "execution_count": 36,
   "metadata": {
    "collapsed": false
   },
   "outputs": [
    {
     "name": "stdout",
     "output_type": "stream",
     "text": [
      "379 271 379 271\n"
     ]
    }
   ],
   "source": [
    "print len(xy_cut), len(xy_cut2), len(xy_cut3), len(xy_cut4)"
   ]
  },
  {
   "cell_type": "code",
   "execution_count": 37,
   "metadata": {
    "collapsed": false
   },
   "outputs": [
    {
     "name": "stdout",
     "output_type": "stream",
     "text": [
      "The Pearson r coefficient is 0.700770240759. Is the 2-tailed p-value of 2.42059610934e-41 smaller than 0.05?\n",
      "Yes.\n",
      "The correlation is significant at the 0.05 alpha level.\n"
     ]
    }
   ],
   "source": [
    "pearsontest = scipy.stats.pearsonr(xy_cut2.xlog, xy_cut4.xlog)\n",
    "pearson_alpha = 0.05\n",
    "\n",
    "r,p = pearsontest\n",
    "def pearson_results5(r,p,a):\n",
    "    print(\"The Pearson r coefficient is {}. Is the 2-tailed p-value of {} smaller than {}?\".format(r,p,a))\n",
    "    if p<a:\n",
    "        print (\"Yes.\")\n",
    "    else:\n",
    "        print (\"Nope.\")\n",
    "    \n",
    "    print ('The correlation is {} at the {} alpha level.'.format(('significant' if p<a  else 'not significant'),a)) \n",
    "\n",
    "pearson_results5(r,p,pearson_alpha)"
   ]
  },
  {
   "cell_type": "markdown",
   "metadata": {},
   "source": [
    "#SPEARMAN"
   ]
  },
  {
   "cell_type": "code",
   "execution_count": 38,
   "metadata": {
    "collapsed": false
   },
   "outputs": [
    {
     "name": "stdout",
     "output_type": "stream",
     "text": [
      "(0.6781672816728167, 7.4141850228959151e-38)\n",
      "The Spearman r coefficient is 0.678167281673. Is the 2-tailed p-value of 7.4141850229e-38 smaller than 0.05?\n",
      "Yes.\n",
      "The correlation is significant at the 0.05 alpha level.\n"
     ]
    }
   ],
   "source": [
    "# we'll use the same randomly-generated sample for consistency\n",
    "spearman1 = scipy.stats.spearmanr(xy_cut2.xlog, xy_cut4.xlog)\n",
    "print (spearman1)\n",
    "spearman_alpha = 0.05\n",
    "sr,sp = spearman1\n",
    "def spearman_results(r,p,a):\n",
    "    print(\"The Spearman r coefficient is {}. Is the 2-tailed p-value of {} smaller than {}?\".format(r,p,a))\n",
    "    if p<a:\n",
    "        print (\"Yes.\")\n",
    "    else:\n",
    "        print (\"Nope.\")\n",
    "    \n",
    "    print ('The correlation is {} at the {} alpha level.'.format(('significant' if p<a  else 'not significant'),a)) \n",
    "\n",
    "spearman_results(sr,sp,spearman_alpha)"
   ]
  },
  {
   "cell_type": "code",
   "execution_count": 87,
   "metadata": {
    "collapsed": false
   },
   "outputs": [],
   "source": [
    "csa_pc.sort(ascending=False)"
   ]
  },
  {
   "cell_type": "code",
   "execution_count": 92,
   "metadata": {
    "collapsed": false
   },
   "outputs": [],
   "source": [
    "vara = csa_pc.to_frame()\n",
    "varb = csa_p.to_frame()\n",
    "csa_merged = pd.concat([vara, varb], axis=1)\n",
    "csa_merged = csa_merged.rename(columns = {0: 'percapita', 1: 'population'})\n",
    "csa_merged.to_csv('city_co2_ranking.csv')"
   ]
  },
  {
   "cell_type": "markdown",
   "metadata": {},
   "source": [
    "# Central vs Outlying"
   ]
  },
  {
   "cell_type": "code",
   "execution_count": 52,
   "metadata": {
    "collapsed": true
   },
   "outputs": [],
   "source": [
    "# county density\n",
    "df_master['county_d'] = df_master['county_pop2002']*1.0/df_master['county_land_area_sqmi']\n",
    "\n",
    "# county per capita\n",
    "df_master['co2_pc'] = df_master['tot_co2']*1.0/df_master['county_pop2002']\n",
    "\n",
    "# county per capita electric\n",
    "df_master['county_elec_pc'] = df_master['Electricity Prod']*1.0/df_master['county_pop2002']\n",
    "\n",
    "# county per capita road\n",
    "df_master['onroad_pc'] = df_master['Onroad']*1.0/df_master['county_pop2002']"
   ]
  },
  {
   "cell_type": "code",
   "execution_count": 54,
   "metadata": {
    "collapsed": false
   },
   "outputs": [
    {
     "data": {
      "text/plain": [
       "count    1196.000000\n",
       "mean        1.752524\n",
       "std         1.129623\n",
       "min         0.238851\n",
       "25%         1.250600\n",
       "50%         1.532195\n",
       "75%         1.940597\n",
       "max        23.413443\n",
       "Name: onroad_pc, dtype: float64"
      ]
     },
     "execution_count": 54,
     "metadata": {},
     "output_type": "execute_result"
    }
   ],
   "source": [
    "df_master['onroad_pc'].describe()"
   ]
  },
  {
   "cell_type": "code",
   "execution_count": 55,
   "metadata": {
    "collapsed": false
   },
   "outputs": [
    {
     "name": "stderr",
     "output_type": "stream",
     "text": [
      "/Users/Daynan/anaconda/lib/python2.7/site-packages/IPython/kernel/__main__.py:2: SettingWithCopyWarning: \n",
      "A value is trying to be set on a copy of a slice from a DataFrame.\n",
      "Try using .loc[row_indexer,col_indexer] = value instead\n",
      "\n",
      "See the the caveats in the documentation: http://pandas.pydata.org/pandas-docs/stable/indexing.html#indexing-view-versus-copy\n",
      "  from IPython.kernel.zmq import kernelapp as app\n",
      "/Users/Daynan/anaconda/lib/python2.7/site-packages/IPython/kernel/__main__.py:5: SettingWithCopyWarning: \n",
      "A value is trying to be set on a copy of a slice from a DataFrame.\n",
      "Try using .loc[row_indexer,col_indexer] = value instead\n",
      "\n",
      "See the the caveats in the documentation: http://pandas.pydata.org/pandas-docs/stable/indexing.html#indexing-view-versus-copy\n",
      "/Users/Daynan/anaconda/lib/python2.7/site-packages/IPython/kernel/__main__.py:8: SettingWithCopyWarning: \n",
      "A value is trying to be set on a copy of a slice from a DataFrame.\n",
      "Try using .loc[row_indexer,col_indexer] = value instead\n",
      "\n",
      "See the the caveats in the documentation: http://pandas.pydata.org/pandas-docs/stable/indexing.html#indexing-view-versus-copy\n",
      "/Users/Daynan/anaconda/lib/python2.7/site-packages/IPython/kernel/__main__.py:11: SettingWithCopyWarning: \n",
      "A value is trying to be set on a copy of a slice from a DataFrame.\n",
      "Try using .loc[row_indexer,col_indexer] = value instead\n",
      "\n",
      "See the the caveats in the documentation: http://pandas.pydata.org/pandas-docs/stable/indexing.html#indexing-view-versus-copy\n"
     ]
    }
   ],
   "source": [
    "# county density\n",
    "dfc['county_d'] = dfc['county_pop2002']*1.0/dfc['county_land_area_sqmi']\n",
    "\n",
    "# county per capita\n",
    "dfc['co2_pc'] = dfc['tot_co2']*1.0/dfc['county_pop2002']\n",
    "\n",
    "# county per capita electric\n",
    "dfc['county_elec_pc'] = dfc['Electricity Prod']*1.0/dfc['county_pop2002']\n",
    "\n",
    "# county per capita road\n",
    "dfc['onroad_pc'] = dfc['Onroad']*1.0/dfc['county_pop2002']"
   ]
  },
  {
   "cell_type": "code",
   "execution_count": 59,
   "metadata": {
    "collapsed": false
   },
   "outputs": [
    {
     "data": {
      "text/plain": [
       "count    744.000000\n",
       "mean       1.480112\n",
       "std        0.479576\n",
       "min        0.238851\n",
       "25%        1.175737\n",
       "50%        1.402054\n",
       "75%        1.700492\n",
       "max        3.878719\n",
       "Name: onroad_pc, dtype: float64"
      ]
     },
     "execution_count": 59,
     "metadata": {},
     "output_type": "execute_result"
    }
   ],
   "source": [
    "dfc.onroad_pc.describe()"
   ]
  },
  {
   "cell_type": "code",
   "execution_count": 60,
   "metadata": {
    "collapsed": false
   },
   "outputs": [
    {
     "name": "stderr",
     "output_type": "stream",
     "text": [
      "/Users/Daynan/anaconda/lib/python2.7/site-packages/IPython/kernel/__main__.py:2: SettingWithCopyWarning: \n",
      "A value is trying to be set on a copy of a slice from a DataFrame.\n",
      "Try using .loc[row_indexer,col_indexer] = value instead\n",
      "\n",
      "See the the caveats in the documentation: http://pandas.pydata.org/pandas-docs/stable/indexing.html#indexing-view-versus-copy\n",
      "  from IPython.kernel.zmq import kernelapp as app\n",
      "/Users/Daynan/anaconda/lib/python2.7/site-packages/IPython/kernel/__main__.py:5: SettingWithCopyWarning: \n",
      "A value is trying to be set on a copy of a slice from a DataFrame.\n",
      "Try using .loc[row_indexer,col_indexer] = value instead\n",
      "\n",
      "See the the caveats in the documentation: http://pandas.pydata.org/pandas-docs/stable/indexing.html#indexing-view-versus-copy\n",
      "/Users/Daynan/anaconda/lib/python2.7/site-packages/IPython/kernel/__main__.py:8: SettingWithCopyWarning: \n",
      "A value is trying to be set on a copy of a slice from a DataFrame.\n",
      "Try using .loc[row_indexer,col_indexer] = value instead\n",
      "\n",
      "See the the caveats in the documentation: http://pandas.pydata.org/pandas-docs/stable/indexing.html#indexing-view-versus-copy\n",
      "/Users/Daynan/anaconda/lib/python2.7/site-packages/IPython/kernel/__main__.py:11: SettingWithCopyWarning: \n",
      "A value is trying to be set on a copy of a slice from a DataFrame.\n",
      "Try using .loc[row_indexer,col_indexer] = value instead\n",
      "\n",
      "See the the caveats in the documentation: http://pandas.pydata.org/pandas-docs/stable/indexing.html#indexing-view-versus-copy\n"
     ]
    }
   ],
   "source": [
    "# county density\n",
    "dfo['county_d'] = dfo['county_pop2002']*1.0/dfo['county_land_area_sqmi']\n",
    "\n",
    "# county per capita\n",
    "dfo['co2_pc'] = dfo['tot_co2']*1.0/dfo['county_pop2002']\n",
    "\n",
    "# county per capita electric\n",
    "dfo['county_elec_pc'] = dfo['Electricity Prod']*1.0/dfo['county_pop2002']\n",
    "\n",
    "# county per capita road\n",
    "dfo['onroad_pc'] = dfo['Onroad']*1.0/dfo['county_pop2002']"
   ]
  },
  {
   "cell_type": "code",
   "execution_count": 64,
   "metadata": {
    "collapsed": false
   },
   "outputs": [
    {
     "data": {
      "text/plain": [
       "count    452.000000\n",
       "mean       2.200919\n",
       "std        1.636544\n",
       "min        0.541775\n",
       "25%        1.477171\n",
       "50%        1.848960\n",
       "75%        2.408000\n",
       "max       23.413443\n",
       "Name: onroad_pc, dtype: float64"
      ]
     },
     "execution_count": 64,
     "metadata": {},
     "output_type": "execute_result"
    }
   ],
   "source": [
    "dfo.onroad_pc.describe()"
   ]
  },
  {
   "cell_type": "markdown",
   "metadata": {},
   "source": [
    "# KS 2-sample test of variance for Central vs Outlying"
   ]
  },
  {
   "cell_type": "code",
   "execution_count": 69,
   "metadata": {
    "collapsed": false
   },
   "outputs": [
    {
     "data": {
      "text/plain": [
       "(0.36442573032638687, 2.3695938752214343e-33)"
      ]
     },
     "execution_count": 69,
     "metadata": {},
     "output_type": "execute_result"
    }
   ],
   "source": [
    "scipy.stats.ks_2samp(dfc.onroad_pc, dfo.onroad_pc)"
   ]
  },
  {
   "cell_type": "code",
   "execution_count": 70,
   "metadata": {
    "collapsed": false
   },
   "outputs": [
    {
     "data": {
      "text/plain": [
       "(0.077267104386716134, 0.066196200456997367)"
      ]
     },
     "execution_count": 70,
     "metadata": {},
     "output_type": "execute_result"
    }
   ],
   "source": [
    "scipy.stats.ks_2samp(dfc.co2_pc, dfo.co2_pc)"
   ]
  },
  {
   "cell_type": "code",
   "execution_count": null,
   "metadata": {
    "collapsed": true
   },
   "outputs": [],
   "source": []
  }
 ],
 "metadata": {
  "kernelspec": {
   "display_name": "Python 2",
   "language": "python",
   "name": "python2"
  },
  "language_info": {
   "codemirror_mode": {
    "name": "ipython",
    "version": 2
   },
   "file_extension": ".py",
   "mimetype": "text/x-python",
   "name": "python",
   "nbconvert_exporter": "python",
   "pygments_lexer": "ipython2",
   "version": "2.7.10"
  }
 },
 "nbformat": 4,
 "nbformat_minor": 0
}
