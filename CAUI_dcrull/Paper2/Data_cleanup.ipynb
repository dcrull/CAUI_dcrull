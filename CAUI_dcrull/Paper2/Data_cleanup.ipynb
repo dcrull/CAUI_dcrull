{
 "cells": [
  {
   "cell_type": "code",
   "execution_count": 1,
   "metadata": {
    "collapsed": false
   },
   "outputs": [
    {
     "name": "stdout",
     "output_type": "stream",
     "text": [
      "Populating the interactive namespace from numpy and matplotlib\n"
     ]
    }
   ],
   "source": [
    "import pandas as pd\n",
    "import numpy as np\n",
    "import urllib2\n",
    "import csv\n",
    "import pylab as pl\n",
    "import scipy.stats\n",
    "import statsmodels.api as sm\n",
    "import statsmodels.formula.api as smf\n",
    "%pylab inline"
   ]
  },
  {
   "cell_type": "code",
   "execution_count": 2,
   "metadata": {
    "collapsed": false
   },
   "outputs": [],
   "source": [
    "# download city population estimate into database \n",
    "# from here: https://www.census.gov/popest/data/metro/totals/2014/index.html\n",
    "# cut off at 100,000 population\n",
    "df = pd.read_csv('100cities.csv')"
   ]
  },
  {
   "cell_type": "code",
   "execution_count": 3,
   "metadata": {
    "collapsed": false
   },
   "outputs": [],
   "source": [
    "# download list of counties per CSA (caveat that csa's are derived with 2013 population estimates)\n",
    "df2 = pd.read_csv('CensusCSA.csv', header = 2, usecols = ['CBSA Title', \n",
    "                                                          'CSA Code', \n",
    "                                                          'Metropolitan/Micropolitan Statistical Area', \n",
    "                                                          'CSA Title', \"County/County Equivalent\", \n",
    "                                                          'State Name', \"FIPS County Code\", \n",
    "                                                          \"Central/Outlying County\"])"
   ]
  },
  {
   "cell_type": "code",
   "execution_count": 4,
   "metadata": {
    "collapsed": false
   },
   "outputs": [],
   "source": [
    "# clean up the cities dataset\n",
    "df['Geography'] = df['Geography'].map(lambda x: x.replace('Metro Area',''))\n",
    "df['Geography'] = df['Geography'].map(lambda x: x.replace('Micro Area',''))\n",
    "df['Geography'] = df['Geography'].map(lambda x: x.replace('Metro Division', ''))\n",
    "df['Geography'] = df['Geography'].map(lambda x: x.rstrip())\n",
    "df['Geography'] = df['Geography'].map(lambda x: x.lstrip())"
   ]
  },
  {
   "cell_type": "code",
   "execution_count": 5,
   "metadata": {
    "collapsed": false
   },
   "outputs": [],
   "source": [
    "df['CBSA Title'] = df['Geography']"
   ]
  },
  {
   "cell_type": "code",
   "execution_count": 6,
   "metadata": {
    "collapsed": false
   },
   "outputs": [],
   "source": [
    "csa_counties = pd.merge(df2, df, on='CBSA Title')\n",
    "# remove puerto rico\n",
    "csa_counties = csa_counties[csa_counties['State Name'] != 'Puerto Rico']"
   ]
  },
  {
   "cell_type": "code",
   "execution_count": 7,
   "metadata": {
    "collapsed": false
   },
   "outputs": [],
   "source": [
    "state_pop = pd.read_csv('county_pop2002.csv')"
   ]
  },
  {
   "cell_type": "code",
   "execution_count": 8,
   "metadata": {
    "collapsed": false
   },
   "outputs": [
    {
     "data": {
      "text/plain": [
       "Index([u'Areaname', u'STCOU', u'PST045202D'], dtype='object')"
      ]
     },
     "execution_count": 8,
     "metadata": {},
     "output_type": "execute_result"
    }
   ],
   "source": [
    "state_pop.columns"
   ]
  },
  {
   "cell_type": "code",
   "execution_count": 9,
   "metadata": {
    "collapsed": false
   },
   "outputs": [],
   "source": [
    "states = state_pop[~state_pop.Areaname.str.contains(',')]"
   ]
  },
  {
   "cell_type": "code",
   "execution_count": 10,
   "metadata": {
    "collapsed": false
   },
   "outputs": [],
   "source": [
    "county_pop = pd.read_csv('csa_counties.csv')"
   ]
  },
  {
   "cell_type": "code",
   "execution_count": 11,
   "metadata": {
    "collapsed": false
   },
   "outputs": [],
   "source": [
    "mergy = pd.merge(county_pop, state_pop, on = 'STCOU')"
   ]
  },
  {
   "cell_type": "code",
   "execution_count": 12,
   "metadata": {
    "collapsed": false
   },
   "outputs": [],
   "source": [
    "energy = pd.read_csv('county_sector.csv', usecols=['State',' County', ' FIPS', ' Total', 'Commercial', 'Industrial','Residential','Electricity Prod','Onroad', 'Cement','Aircraft','Nonroad','Airborne'])"
   ]
  },
  {
   "cell_type": "code",
   "execution_count": 13,
   "metadata": {
    "collapsed": false
   },
   "outputs": [],
   "source": [
    "mergy['FIPS'] = mergy['STCOU']\n",
    "energy['FIPS'] = energy[' FIPS']"
   ]
  },
  {
   "cell_type": "code",
   "execution_count": 14,
   "metadata": {
    "collapsed": false
   },
   "outputs": [],
   "source": [
    "city_energy = pd.merge(energy, mergy, on = 'FIPS')"
   ]
  },
  {
   "cell_type": "code",
   "execution_count": 15,
   "metadata": {
    "collapsed": false
   },
   "outputs": [],
   "source": [
    "city_energy['per capita'] = city_energy[' Total']*1000000/city_energy['PST045202D']"
   ]
  },
  {
   "cell_type": "code",
   "execution_count": 16,
   "metadata": {
    "collapsed": false
   },
   "outputs": [],
   "source": [
    "county_area = pd.read_csv('county_area.csv', usecols = ['USPS', 'FIPS', 'NAME', 'ALAND','ALAND_SQMI'])"
   ]
  },
  {
   "cell_type": "code",
   "execution_count": 17,
   "metadata": {
    "collapsed": false
   },
   "outputs": [],
   "source": [
    "# merge to create master file\n",
    "city_master = pd.merge(city_energy, county_area, on = 'FIPS')"
   ]
  },
  {
   "cell_type": "code",
   "execution_count": 18,
   "metadata": {
    "collapsed": false
   },
   "outputs": [
    {
     "data": {
      "text/plain": [
       "Index([u'State', u' County', u' FIPS', u' Total', u'Commercial', u'Industrial',\n",
       "       u'Residential', u'Electricity Prod', u'Onroad', u'Cement', u'Aircraft',\n",
       "       u'Airborne', u'Nonroad', u'FIPS', u'Unnamed: 0', u'CSA Code',\n",
       "       u'CBSA Title', u'Metropolitan/Micropolitan Statistical Area',\n",
       "       u'CSA Title', u'County/County Equivalent', u'State Name',\n",
       "       u'FIPS County Code', u'State Code', u'STCOU',\n",
       "       u'Central/Outlying County', u'Geography', u'2014 estimate',\n",
       "       u'county_state', u'Areaname', u'PST045202D', u'per capita', u'USPS',\n",
       "       u'NAME', u'ALAND', u'ALAND_SQMI'],\n",
       "      dtype='object')"
      ]
     },
     "execution_count": 18,
     "metadata": {},
     "output_type": "execute_result"
    }
   ],
   "source": [
    "city_master.columns"
   ]
  },
  {
   "cell_type": "code",
   "execution_count": 19,
   "metadata": {
    "collapsed": false
   },
   "outputs": [],
   "source": [
    "# clean and rename columns\n",
    "del city_master[' County']\n",
    "del city_master[' FIPS']\n",
    "del city_master['Areaname']\n",
    "del city_master['USPS']\n",
    "del city_master['STCOU']\n",
    "del city_master['county_state']\n",
    "del city_master['State Code']\n",
    "del city_master['State Name']\n",
    "del city_master['County/County Equivalent']\n",
    "del city_master['FIPS County Code']\n",
    "del city_master['ALAND']\n",
    "city_master = city_master.rename(columns = {'State': 'state', ' Total': 'tot_co2',\n",
    "                    'Metropolitan/Micropolitan Statistical Area': 'MSAMCA',\n",
    "                    'Central/Outlying County': 'center-outer', '2014 estimate': 'city_pop2014',\n",
    "                    'PST045202D': 'county_pop2002', 'per capita': 'county_co2_pc_tons', 'NAME': 'county',\n",
    "                    'ALAND_SQMI': 'county_land_area_sqmi', 'Geography': 'city'})"
   ]
  },
  {
   "cell_type": "code",
   "execution_count": 20,
   "metadata": {
    "collapsed": false
   },
   "outputs": [],
   "source": [
    "# more column clean up\n",
    "city_master['tot_co2'] = city_master['tot_co2']*1000000\n",
    "city_master['Commercial'] = city_master['Commercial']*1000000\n",
    "city_master['Industrial'] = city_master['Industrial']*1000000\n",
    "city_master['Residential'] = city_master['Residential']*1000000\n",
    "city_master['Electricity Prod'] = city_master['Electricity Prod']*1000000\n",
    "city_master['Onroad'] = city_master['Onroad']*1000000\n",
    "city_master['Cement'] = city_master['Cement']*1000000\n",
    "city_master['Aircraft'] = city_master['Aircraft']*1000000\n",
    "city_master['Airborne'] = city_master['Airborne']*1000000\n",
    "city_master['Nonroad'] = city_master['Nonroad']*1000000"
   ]
  },
  {
   "cell_type": "code",
   "execution_count": 21,
   "metadata": {
    "collapsed": false
   },
   "outputs": [],
   "source": [
    "# conversions to top level city designation: CSA or MSA/MCA\n",
    "city_master['convert'] = city_master['CSA Title'].apply(lambda x: str(x))\n",
    "city_master.ix[city_master['convert'] != 'nan', 'top_level'] = city_master['CSA Title']\n",
    "city_master.ix[city_master['convert'] == 'nan', 'top_level'] = city_master['CBSA Title']\n",
    "city_master.ix[city_master['convert'] != 'nan', 'CSA'] = True\n",
    "city_master.ix[city_master['convert'] == 'nan', 'CSA'] = False\n",
    "del city_master['convert']\n",
    "#del city_master['CBSA Title']\n",
    "del city_master['CSA Title']"
   ]
  },
  {
   "cell_type": "code",
   "execution_count": 51,
   "metadata": {
    "collapsed": false
   },
   "outputs": [
    {
     "data": {
      "text/plain": [
       "744"
      ]
     },
     "execution_count": 51,
     "metadata": {},
     "output_type": "execute_result"
    }
   ],
   "source": [
    "# remove outlying counties\n",
    "city_master = city_master[city_master['center-outer'] == \"Central\"]\n",
    "len(city_master)"
   ]
  },
  {
   "cell_type": "code",
   "execution_count": 59,
   "metadata": {
    "collapsed": false
   },
   "outputs": [],
   "source": [
    "# county density\n",
    "city_master['density_sqmi_county'] = city_master['county_pop2002']*1.0/city_master['county_land_area_sqmi']\n",
    "\n",
    "# county per capita electric\n",
    "city_master['electric_pc'] = city_master['Electricity Prod']*1.0/city_master['county_pop2002']\n",
    "\n",
    "# csa city pop\n",
    "csa_agg_pop = city_master['county_pop2002'].groupby(city_master['top_level']).sum()\n",
    "csa_agg_area = city_master['county_land_area_sqmi'].groupby(city_master['top_level']).sum()\n",
    "csa_city_density = csa_agg_pop*1.0/csa_agg_area\n",
    "\n",
    "\n",
    "# csa city emissions\n",
    "csa_agg_co2 = city_master['tot_co2'].groupby(city_master['top_level']).sum()\n",
    "csa_agg_pc = csa_agg_co2*1.0/csa_agg_pop\n",
    "\n",
    "#csa electricity\n",
    "csa_agg_elec = city_master['Electricity Prod'].groupby(city_master['top_level']).sum()\n",
    "csa_agg_elpc = csa_agg_elec*1.0/csa_agg_pop\n",
    "\n",
    "# cbsa city pop\n",
    "cbsa_agg_pop = city_master['county_pop2002'].groupby(city_master['city']).sum()\n",
    "cbsa_agg_area = city_master['county_land_area_sqmi'].groupby(city_master['city']).sum()\n",
    "cbsa_city_density = cbsa_agg_pop*1.0/cbsa_agg_area\n",
    "\n",
    "# cbsa city emissions\n",
    "cbsa_agg_co2 = city_master['tot_co2'].groupby(city_master['city']).sum()\n",
    "cbsa_agg_pc = cbsa_agg_co2*1.0/cbsa_agg_pop\n",
    "\n",
    "# cbsa electricity\n",
    "cbsa_agg_elec = city_master['Electricity Prod'].groupby(city_master['city']).sum()\n",
    "cbsa_agg_elpc = cbsa_agg_elec*1.0/cbsa_agg_pop"
   ]
  },
  {
   "cell_type": "code",
   "execution_count": 68,
   "metadata": {
    "collapsed": false
   },
   "outputs": [
    {
     "data": {
      "text/html": [
       "<div>\n",
       "<table border=\"1\" class=\"dataframe\">\n",
       "  <thead>\n",
       "    <tr style=\"text-align: right;\">\n",
       "      <th></th>\n",
       "      <th>city</th>\n",
       "      <th>0_x</th>\n",
       "      <th>0_y</th>\n",
       "    </tr>\n",
       "  </thead>\n",
       "  <tbody>\n",
       "    <tr>\n",
       "      <th>0</th>\n",
       "      <td>Abilene, TX</td>\n",
       "      <td>136.902109</td>\n",
       "      <td>136.902109</td>\n",
       "    </tr>\n",
       "    <tr>\n",
       "      <th>1</th>\n",
       "      <td>Akron, OH</td>\n",
       "      <td>777.228597</td>\n",
       "      <td>777.228597</td>\n",
       "    </tr>\n",
       "    <tr>\n",
       "      <th>2</th>\n",
       "      <td>Albany, GA</td>\n",
       "      <td>180.445394</td>\n",
       "      <td>180.445394</td>\n",
       "    </tr>\n",
       "    <tr>\n",
       "      <th>3</th>\n",
       "      <td>Albany, OR</td>\n",
       "      <td>45.693933</td>\n",
       "      <td>45.693933</td>\n",
       "    </tr>\n",
       "    <tr>\n",
       "      <th>4</th>\n",
       "      <td>Albany-Schenectady-Troy, NY</td>\n",
       "      <td>366.315559</td>\n",
       "      <td>366.315559</td>\n",
       "    </tr>\n",
       "    <tr>\n",
       "      <th>5</th>\n",
       "      <td>Albuquerque, NM</td>\n",
       "      <td>137.413327</td>\n",
       "      <td>137.413327</td>\n",
       "    </tr>\n",
       "    <tr>\n",
       "      <th>6</th>\n",
       "      <td>Alexandria, LA</td>\n",
       "      <td>95.956484</td>\n",
       "      <td>95.956484</td>\n",
       "    </tr>\n",
       "    <tr>\n",
       "      <th>7</th>\n",
       "      <td>Allentown-Bethlehem-Easton, PA-NJ</td>\n",
       "      <td>520.446734</td>\n",
       "      <td>520.446734</td>\n",
       "    </tr>\n",
       "    <tr>\n",
       "      <th>8</th>\n",
       "      <td>Altoona, PA</td>\n",
       "      <td>242.194751</td>\n",
       "      <td>242.194751</td>\n",
       "    </tr>\n",
       "    <tr>\n",
       "      <th>9</th>\n",
       "      <td>Amarillo, TX</td>\n",
       "      <td>121.801360</td>\n",
       "      <td>121.801360</td>\n",
       "    </tr>\n",
       "    <tr>\n",
       "      <th>10</th>\n",
       "      <td>Anchorage, AK</td>\n",
       "      <td>157.309599</td>\n",
       "      <td>157.309599</td>\n",
       "    </tr>\n",
       "    <tr>\n",
       "      <th>11</th>\n",
       "      <td>Ann Arbor, MI</td>\n",
       "      <td>472.571586</td>\n",
       "      <td>472.571586</td>\n",
       "    </tr>\n",
       "    <tr>\n",
       "      <th>12</th>\n",
       "      <td>Anniston-Oxford-Jacksonville, AL</td>\n",
       "      <td>182.977150</td>\n",
       "      <td>182.977150</td>\n",
       "    </tr>\n",
       "    <tr>\n",
       "      <th>13</th>\n",
       "      <td>Appleton, WI</td>\n",
       "      <td>217.771426</td>\n",
       "      <td>217.771426</td>\n",
       "    </tr>\n",
       "    <tr>\n",
       "      <th>14</th>\n",
       "      <td>Asheville, NC</td>\n",
       "      <td>226.064018</td>\n",
       "      <td>226.064018</td>\n",
       "    </tr>\n",
       "    <tr>\n",
       "      <th>15</th>\n",
       "      <td>Athens-Clarke County, GA</td>\n",
       "      <td>432.768790</td>\n",
       "      <td>432.768790</td>\n",
       "    </tr>\n",
       "    <tr>\n",
       "      <th>16</th>\n",
       "      <td>Atlanta-Sandy Springs-Roswell, GA</td>\n",
       "      <td>876.568228</td>\n",
       "      <td>876.568228</td>\n",
       "    </tr>\n",
       "    <tr>\n",
       "      <th>17</th>\n",
       "      <td>Atlantic City-Hammonton, NJ</td>\n",
       "      <td>464.580064</td>\n",
       "      <td>464.580064</td>\n",
       "    </tr>\n",
       "    <tr>\n",
       "      <th>18</th>\n",
       "      <td>Auburn-Opelika, AL</td>\n",
       "      <td>194.551434</td>\n",
       "      <td>194.551434</td>\n",
       "    </tr>\n",
       "    <tr>\n",
       "      <th>19</th>\n",
       "      <td>Augusta-Richmond County, GA-SC</td>\n",
       "      <td>259.831499</td>\n",
       "      <td>259.831499</td>\n",
       "    </tr>\n",
       "    <tr>\n",
       "      <th>20</th>\n",
       "      <td>Augusta-Waterville, ME</td>\n",
       "      <td>136.506886</td>\n",
       "      <td>136.506886</td>\n",
       "    </tr>\n",
       "    <tr>\n",
       "      <th>21</th>\n",
       "      <td>Austin-Round Rock, TX</td>\n",
       "      <td>450.284463</td>\n",
       "      <td>450.284463</td>\n",
       "    </tr>\n",
       "    <tr>\n",
       "      <th>22</th>\n",
       "      <td>Bakersfield, CA</td>\n",
       "      <td>84.752966</td>\n",
       "      <td>84.752966</td>\n",
       "    </tr>\n",
       "    <tr>\n",
       "      <th>23</th>\n",
       "      <td>Baltimore-Columbia-Towson, MD</td>\n",
       "      <td>1290.236411</td>\n",
       "      <td>1290.236411</td>\n",
       "    </tr>\n",
       "    <tr>\n",
       "      <th>24</th>\n",
       "      <td>Bangor, ME</td>\n",
       "      <td>43.047812</td>\n",
       "      <td>43.047812</td>\n",
       "    </tr>\n",
       "    <tr>\n",
       "      <th>25</th>\n",
       "      <td>Barnstable Town, MA</td>\n",
       "      <td>576.275707</td>\n",
       "      <td>576.275707</td>\n",
       "    </tr>\n",
       "    <tr>\n",
       "      <th>26</th>\n",
       "      <td>Baton Rouge, LA</td>\n",
       "      <td>292.439483</td>\n",
       "      <td>292.439483</td>\n",
       "    </tr>\n",
       "    <tr>\n",
       "      <th>27</th>\n",
       "      <td>Battle Creek, MI</td>\n",
       "      <td>195.888609</td>\n",
       "      <td>195.888609</td>\n",
       "    </tr>\n",
       "    <tr>\n",
       "      <th>28</th>\n",
       "      <td>Bay City, MI</td>\n",
       "      <td>247.758319</td>\n",
       "      <td>247.758319</td>\n",
       "    </tr>\n",
       "    <tr>\n",
       "      <th>29</th>\n",
       "      <td>Beaumont-Port Arthur, TX</td>\n",
       "      <td>274.517258</td>\n",
       "      <td>274.517258</td>\n",
       "    </tr>\n",
       "    <tr>\n",
       "      <th>...</th>\n",
       "      <td>...</td>\n",
       "      <td>...</td>\n",
       "      <td>...</td>\n",
       "    </tr>\n",
       "    <tr>\n",
       "      <th>349</th>\n",
       "      <td>Urban Honolulu, HI</td>\n",
       "      <td>1469.227274</td>\n",
       "      <td>1469.227274</td>\n",
       "    </tr>\n",
       "    <tr>\n",
       "      <th>350</th>\n",
       "      <td>Utica-Rome, NY</td>\n",
       "      <td>192.187749</td>\n",
       "      <td>192.187749</td>\n",
       "    </tr>\n",
       "    <tr>\n",
       "      <th>351</th>\n",
       "      <td>Valdosta, GA</td>\n",
       "      <td>190.039229</td>\n",
       "      <td>190.039229</td>\n",
       "    </tr>\n",
       "    <tr>\n",
       "      <th>352</th>\n",
       "      <td>Vallejo-Fairfield, CA</td>\n",
       "      <td>496.315857</td>\n",
       "      <td>496.315857</td>\n",
       "    </tr>\n",
       "    <tr>\n",
       "      <th>353</th>\n",
       "      <td>Vineland-Bridgeton, NJ</td>\n",
       "      <td>305.125252</td>\n",
       "      <td>305.125252</td>\n",
       "    </tr>\n",
       "    <tr>\n",
       "      <th>354</th>\n",
       "      <td>Virginia Beach-Norfolk-Newport News, VA-NC</td>\n",
       "      <td>964.229438</td>\n",
       "      <td>964.229438</td>\n",
       "    </tr>\n",
       "    <tr>\n",
       "      <th>355</th>\n",
       "      <td>Visalia-Porterville, CA</td>\n",
       "      <td>78.413794</td>\n",
       "      <td>78.413794</td>\n",
       "    </tr>\n",
       "    <tr>\n",
       "      <th>356</th>\n",
       "      <td>Waco, TX</td>\n",
       "      <td>209.499364</td>\n",
       "      <td>209.499364</td>\n",
       "    </tr>\n",
       "    <tr>\n",
       "      <th>357</th>\n",
       "      <td>Warner Robins, GA</td>\n",
       "      <td>309.926213</td>\n",
       "      <td>309.926213</td>\n",
       "    </tr>\n",
       "    <tr>\n",
       "      <th>358</th>\n",
       "      <td>Washington-Arlington-Alexandria, DC-VA-MD-WV</td>\n",
       "      <td>1346.760303</td>\n",
       "      <td>1346.760303</td>\n",
       "    </tr>\n",
       "    <tr>\n",
       "      <th>359</th>\n",
       "      <td>Waterloo-Cedar Falls, IA</td>\n",
       "      <td>223.815727</td>\n",
       "      <td>223.815727</td>\n",
       "    </tr>\n",
       "    <tr>\n",
       "      <th>360</th>\n",
       "      <td>Watertown-Fort Drum, NY</td>\n",
       "      <td>89.813100</td>\n",
       "      <td>89.813100</td>\n",
       "    </tr>\n",
       "    <tr>\n",
       "      <th>361</th>\n",
       "      <td>Wausau, WI</td>\n",
       "      <td>81.747825</td>\n",
       "      <td>81.747825</td>\n",
       "    </tr>\n",
       "    <tr>\n",
       "      <th>362</th>\n",
       "      <td>Weirton-Steubenville, WV-OH</td>\n",
       "      <td>222.136611</td>\n",
       "      <td>222.136611</td>\n",
       "    </tr>\n",
       "    <tr>\n",
       "      <th>363</th>\n",
       "      <td>Wenatchee, WA</td>\n",
       "      <td>21.086171</td>\n",
       "      <td>21.086171</td>\n",
       "    </tr>\n",
       "    <tr>\n",
       "      <th>364</th>\n",
       "      <td>Wheeling, WV-OH</td>\n",
       "      <td>159.694927</td>\n",
       "      <td>159.694927</td>\n",
       "    </tr>\n",
       "    <tr>\n",
       "      <th>365</th>\n",
       "      <td>Whitewater-Elkhorn, WI</td>\n",
       "      <td>171.409425</td>\n",
       "      <td>171.409425</td>\n",
       "    </tr>\n",
       "    <tr>\n",
       "      <th>366</th>\n",
       "      <td>Wichita Falls, TX</td>\n",
       "      <td>207.284127</td>\n",
       "      <td>207.284127</td>\n",
       "    </tr>\n",
       "    <tr>\n",
       "      <th>367</th>\n",
       "      <td>Wichita, KS</td>\n",
       "      <td>461.108237</td>\n",
       "      <td>461.108237</td>\n",
       "    </tr>\n",
       "    <tr>\n",
       "      <th>368</th>\n",
       "      <td>Williamsport, PA</td>\n",
       "      <td>96.470437</td>\n",
       "      <td>96.470437</td>\n",
       "    </tr>\n",
       "    <tr>\n",
       "      <th>369</th>\n",
       "      <td>Wilmington, NC</td>\n",
       "      <td>872.435181</td>\n",
       "      <td>872.435181</td>\n",
       "    </tr>\n",
       "    <tr>\n",
       "      <th>370</th>\n",
       "      <td>Winchester, VA-WV</td>\n",
       "      <td>206.818080</td>\n",
       "      <td>206.818080</td>\n",
       "    </tr>\n",
       "    <tr>\n",
       "      <th>371</th>\n",
       "      <td>Winston-Salem, NC</td>\n",
       "      <td>327.767903</td>\n",
       "      <td>327.767903</td>\n",
       "    </tr>\n",
       "    <tr>\n",
       "      <th>372</th>\n",
       "      <td>Wooster, OH</td>\n",
       "      <td>202.865592</td>\n",
       "      <td>202.865592</td>\n",
       "    </tr>\n",
       "    <tr>\n",
       "      <th>373</th>\n",
       "      <td>Worcester, MA-CT</td>\n",
       "      <td>435.935029</td>\n",
       "      <td>435.935029</td>\n",
       "    </tr>\n",
       "    <tr>\n",
       "      <th>374</th>\n",
       "      <td>Yakima, WA</td>\n",
       "      <td>52.007778</td>\n",
       "      <td>52.007778</td>\n",
       "    </tr>\n",
       "    <tr>\n",
       "      <th>375</th>\n",
       "      <td>York-Hanover, PA</td>\n",
       "      <td>430.096408</td>\n",
       "      <td>430.096408</td>\n",
       "    </tr>\n",
       "    <tr>\n",
       "      <th>376</th>\n",
       "      <td>Youngstown-Warren-Boardman, OH-PA</td>\n",
       "      <td>348.751685</td>\n",
       "      <td>348.751685</td>\n",
       "    </tr>\n",
       "    <tr>\n",
       "      <th>377</th>\n",
       "      <td>Yuba City, CA</td>\n",
       "      <td>116.804632</td>\n",
       "      <td>116.804632</td>\n",
       "    </tr>\n",
       "    <tr>\n",
       "      <th>378</th>\n",
       "      <td>Yuma, AZ</td>\n",
       "      <td>30.118107</td>\n",
       "      <td>30.118107</td>\n",
       "    </tr>\n",
       "  </tbody>\n",
       "</table>\n",
       "<p>379 rows × 3 columns</p>\n",
       "</div>"
      ],
      "text/plain": [
       "                                             city          0_x          0_y\n",
       "0                                     Abilene, TX   136.902109   136.902109\n",
       "1                                       Akron, OH   777.228597   777.228597\n",
       "2                                      Albany, GA   180.445394   180.445394\n",
       "3                                      Albany, OR    45.693933    45.693933\n",
       "4                     Albany-Schenectady-Troy, NY   366.315559   366.315559\n",
       "5                                 Albuquerque, NM   137.413327   137.413327\n",
       "6                                  Alexandria, LA    95.956484    95.956484\n",
       "7               Allentown-Bethlehem-Easton, PA-NJ   520.446734   520.446734\n",
       "8                                     Altoona, PA   242.194751   242.194751\n",
       "9                                    Amarillo, TX   121.801360   121.801360\n",
       "10                                  Anchorage, AK   157.309599   157.309599\n",
       "11                                  Ann Arbor, MI   472.571586   472.571586\n",
       "12               Anniston-Oxford-Jacksonville, AL   182.977150   182.977150\n",
       "13                                   Appleton, WI   217.771426   217.771426\n",
       "14                                  Asheville, NC   226.064018   226.064018\n",
       "15                       Athens-Clarke County, GA   432.768790   432.768790\n",
       "16              Atlanta-Sandy Springs-Roswell, GA   876.568228   876.568228\n",
       "17                    Atlantic City-Hammonton, NJ   464.580064   464.580064\n",
       "18                             Auburn-Opelika, AL   194.551434   194.551434\n",
       "19                 Augusta-Richmond County, GA-SC   259.831499   259.831499\n",
       "20                         Augusta-Waterville, ME   136.506886   136.506886\n",
       "21                          Austin-Round Rock, TX   450.284463   450.284463\n",
       "22                                Bakersfield, CA    84.752966    84.752966\n",
       "23                  Baltimore-Columbia-Towson, MD  1290.236411  1290.236411\n",
       "24                                     Bangor, ME    43.047812    43.047812\n",
       "25                            Barnstable Town, MA   576.275707   576.275707\n",
       "26                                Baton Rouge, LA   292.439483   292.439483\n",
       "27                               Battle Creek, MI   195.888609   195.888609\n",
       "28                                   Bay City, MI   247.758319   247.758319\n",
       "29                       Beaumont-Port Arthur, TX   274.517258   274.517258\n",
       "..                                            ...          ...          ...\n",
       "349                            Urban Honolulu, HI  1469.227274  1469.227274\n",
       "350                                Utica-Rome, NY   192.187749   192.187749\n",
       "351                                  Valdosta, GA   190.039229   190.039229\n",
       "352                         Vallejo-Fairfield, CA   496.315857   496.315857\n",
       "353                        Vineland-Bridgeton, NJ   305.125252   305.125252\n",
       "354    Virginia Beach-Norfolk-Newport News, VA-NC   964.229438   964.229438\n",
       "355                       Visalia-Porterville, CA    78.413794    78.413794\n",
       "356                                      Waco, TX   209.499364   209.499364\n",
       "357                             Warner Robins, GA   309.926213   309.926213\n",
       "358  Washington-Arlington-Alexandria, DC-VA-MD-WV  1346.760303  1346.760303\n",
       "359                      Waterloo-Cedar Falls, IA   223.815727   223.815727\n",
       "360                       Watertown-Fort Drum, NY    89.813100    89.813100\n",
       "361                                    Wausau, WI    81.747825    81.747825\n",
       "362                   Weirton-Steubenville, WV-OH   222.136611   222.136611\n",
       "363                                 Wenatchee, WA    21.086171    21.086171\n",
       "364                               Wheeling, WV-OH   159.694927   159.694927\n",
       "365                        Whitewater-Elkhorn, WI   171.409425   171.409425\n",
       "366                             Wichita Falls, TX   207.284127   207.284127\n",
       "367                                   Wichita, KS   461.108237   461.108237\n",
       "368                              Williamsport, PA    96.470437    96.470437\n",
       "369                                Wilmington, NC   872.435181   872.435181\n",
       "370                             Winchester, VA-WV   206.818080   206.818080\n",
       "371                             Winston-Salem, NC   327.767903   327.767903\n",
       "372                                   Wooster, OH   202.865592   202.865592\n",
       "373                              Worcester, MA-CT   435.935029   435.935029\n",
       "374                                    Yakima, WA    52.007778    52.007778\n",
       "375                              York-Hanover, PA   430.096408   430.096408\n",
       "376             Youngstown-Warren-Boardman, OH-PA   348.751685   348.751685\n",
       "377                                 Yuba City, CA   116.804632   116.804632\n",
       "378                                      Yuma, AZ    30.118107    30.118107\n",
       "\n",
       "[379 rows x 3 columns]"
      ]
     },
     "execution_count": 68,
     "metadata": {},
     "output_type": "execute_result"
    }
   ],
   "source": [
    "csa_d = csa_city_density.to_frame().reset_index()\n",
    "csa_pc = csa_agg_pc.to_frame().reset_index()\n",
    "csa_epc = csa_agg_elpc.to_frame().reset_index()\n",
    "\n",
    "cbsa_d = cbsa_city_density.to_frame().reset_index()\n",
    "cbsa_t = cbsa_agg_co2.to_frame().reset_index()\n",
    "cbsa_pc = cbsa_agg_pc.to_frame().reset_index()\n",
    "cbsa_epc = cbsa_agg_elpc.to_frame().reset_index()\n",
    "\n",
    "xvar = cbsa_d\n",
    "yvar = cbsa_pc\n",
    "myindex = 'city'\n",
    "\n",
    "densityXpc = pd.merge(xvar, xvar, on = myindex)\n",
    "#densityXpc.sort(columns = '0_x').reset_index()\n",
    "densityXpc"
   ]
  },
  {
   "cell_type": "code",
   "execution_count": 70,
   "metadata": {
    "collapsed": false
   },
   "outputs": [],
   "source": [
    "# set x and y\n",
    "ind_var = densityXpc['0_x']\n",
    "dep_var = densityXpc['0_y']\n",
    "\n",
    "# clean up\n",
    "xthreshold = ind_var.mean()+ind_var.std()*3,ind_var.mean()-ind_var.std()*3\n",
    "ythreshold = dep_var.mean()+dep_var.std()*3, dep_var.mean()-dep_var.std()*3\n",
    "densityXpc_cut = densityXpc[(ind_var<xthreshold[0]) & (ind_var>xthreshold[1])]\n",
    "densityXpc_cut = densityXpc[(dep_var<ythreshold[0]) & (dep_var>ythreshold[1])]\n",
    "\n",
    "#densityXpc_cut.sort(columns = 0).reset_index()\n",
    "#densityXpc_cut"
   ]
  },
  {
   "cell_type": "code",
   "execution_count": 73,
   "metadata": {
    "collapsed": false
   },
   "outputs": [
    {
     "data": {
      "text/plain": [
       "array([ 2.56864422,  3.08957483,  2.44295548,  2.640738  ,  2.72949268,\n",
       "        1.33150703,  2.44330812,  2.18025126,  2.44285212,  2.23527354,\n",
       "        2.40856708,  2.48413926,  2.56833548,  2.3378497 ,  2.24010479,\n",
       "        2.54251631,  2.95798082,  3.11066929,  2.30465689,  2.69875955,\n",
       "        2.20075721,  2.86931778,  2.34023857,  1.58003929,  2.58965424,\n",
       "        2.08195058,  2.30251964,  2.46603601,  2.67771911,  2.63034089,\n",
       "        2.48852414,  1.88467847,  2.4146918 ,  2.77242035,  2.65348696,\n",
       "        2.75580827,  1.92175396,  2.88627311,  2.27884326,  1.96205323,\n",
       "        2.48786833,  2.94073317,  1.84807074,  2.56385537,  2.66706057,\n",
       "        2.68233141,  2.48151943,  2.76328591,  2.3008869 ,  2.49933701,\n",
       "        1.89439247,  2.10850212,  2.34346623,  2.05789753,  2.36971364,\n",
       "        2.35229497,  2.4725744 ,  2.32468092,  2.33800089,  2.05288658,\n",
       "        2.75661246,  2.01001951,  2.63257026,  2.83811812,  2.35048559,\n",
       "        2.30958113,  2.79692997,  2.30953105,  2.04254848,  2.43662787,\n",
       "        2.38268713,  1.67093136,  2.50403526,  1.86390335,  2.3197373 ,\n",
       "        1.5814018 ,  2.86888446,  2.28519686,  1.99998165,  2.67446761,\n",
       "        2.47715875,  2.1841221 ,  1.43133248,  2.38696597,  2.31226324,\n",
       "        2.13924599,  2.56288488,  2.20431294,  1.65666149,  2.24157154,\n",
       "        2.71637629,  1.09373615,  2.70854299,  1.96933715,  2.0308469 ,\n",
       "        2.28027024,  1.61878697,  2.36179549,  2.58737096,  2.77545685,\n",
       "        2.76063031,  2.40085807,  2.63668335,  2.83364887,  2.51063229,\n",
       "        2.58904877,  2.10641656,  2.27024443,  2.46862227,  2.53958052,\n",
       "        2.20329112,  2.5524683 ,  3.01142482,  2.27108503,  2.63942177,\n",
       "        2.13336931,  2.7478305 ,  2.65680546,  2.57882507,  2.07494075,\n",
       "        1.93037526,  3.14385277,  2.94278573,  2.35088638,  1.63395108,\n",
       "        1.87713277,  2.52539917,  2.48447815,  2.43856965,  1.26587557,\n",
       "        2.21013683,  2.38416473,  1.86694102,  2.50410677,  2.43521792,\n",
       "        2.50618801,  2.66380288,  2.36463251,  2.63396459,  2.32606618,\n",
       "        2.02159774,  3.03020922,  2.59737558,  2.84934903,  2.3943735 ,\n",
       "        2.4090509 ,  1.34162737,  2.26239686,  2.23199238,  2.35423144,\n",
       "        2.1069022 ,  2.23670475,  2.31656605,  2.31659163,  2.59366217,\n",
       "        1.93538938,  2.41259948,  1.91761909,  2.02015863,  2.76477344,\n",
       "        1.98428918,  2.80925912,  2.69575815,  1.92815491,  2.11156092,\n",
       "        2.13515456,  2.07461959,  2.11586167,  2.32549296,  2.89054877,\n",
       "        2.42803845,  2.45412792,  2.13641014,  2.76879972,  2.40557389,\n",
       "        2.83864859,  2.91471217,  2.82466945,  2.2837257 ,  2.84035425,\n",
       "        2.13240824,  1.96204083,  1.99701045,  2.33732155,  2.52319659,\n",
       "        2.38959615,  2.28903444,  2.72560658,  2.22710575,  1.7854264 ,\n",
       "        2.15768423,  1.82623611,  2.30942681,  2.64777146,  2.34662014,\n",
       "        3.09535396,  3.13598083,  1.47882767,  2.36143923,  2.14305898,\n",
       "        2.26431778,  2.47885178,  1.78780923,  1.77685161,  2.96287182,\n",
       "        2.63625593,  2.35023778,  2.54749541,  2.26226178,  2.4835809 ,\n",
       "        1.98647279,  1.78884435,  2.13802886,  2.11666532,  1.50819957,\n",
       "        1.95333968,  2.44229577,  2.54520223,  2.19021706,  2.38035729,\n",
       "        2.81012638,  2.19260278,  1.98439425,  2.28394223,  2.53673637,\n",
       "        2.78993513,  3.15389618,  2.22478623,  2.29619123,  2.61478918,\n",
       "        1.30041512,  2.09878685,  1.00801653,  1.61589681,  1.65639086,\n",
       "        3.12929031,  2.25935504,  2.4280538 ,  2.3155885 ,  2.1136246 ,\n",
       "        1.53130441,  2.2340347 ,  2.78016376,  2.1005501 ,  1.91935335,\n",
       "        2.28371   ,  2.68718695,  2.04278752,  1.7160683 ,  2.64156188,\n",
       "        2.48022032,  2.27461087,  2.35989181,  2.55727786,  2.63356582,\n",
       "        2.41710661,  2.10624474,  1.85676171,  2.11896983,  2.72028938,\n",
       "        1.91247621,  2.51207012,  2.27999477,  2.40611626,  2.30720839,\n",
       "        2.12245861,  2.30310669,  2.137     ,  3.09715513,  2.29329034,\n",
       "        2.2430243 ,  2.57497068,  2.84361163,  2.15718358,  0.81063674,\n",
       "        2.49572792,  2.07975173,  2.62461834,  2.29200918,  2.56186338,\n",
       "        2.64242281,  2.06746006,  3.00593626,  2.6141335 ,  2.23348251,\n",
       "        1.56451551,  1.83780625,  2.19791488,  2.49125831,  2.57548587,\n",
       "        2.32992352,  2.6017786 ,  1.65985854,  2.2624315 ,  2.38402652,\n",
       "        2.23037918,  2.29211421,  1.92961111,  1.98207433,  2.81850539,\n",
       "        1.45025538,  2.2563458 ,  2.70994989,  2.11444602,  2.20888151,\n",
       "        2.18336626,  2.51622995,  2.83259705,  2.28509784,  1.6125713 ,\n",
       "        2.70461418,  2.2162139 ,  1.70804162,  2.04836661,  2.98418039,\n",
       "        3.13891893,  2.22443867,  2.59356644,  2.78127806,  3.11287983,\n",
       "        2.08427082,  3.06048687,  2.08565214,  2.40438966,  2.39587182,\n",
       "        2.37883845,  2.2973053 ,  2.43208521,  2.19675523,  1.71890181,\n",
       "        2.16734056,  1.83479786,  2.06292529,  2.22729561,  1.28829384,\n",
       "        2.05775221,  2.35761803,  2.32118271,  2.76030551,  1.69932049,\n",
       "        2.28342052,  2.58704866,  2.40821841,  1.98846683,  3.03950152,\n",
       "        2.64951599,  2.34187569,  2.51556642,  2.12004538,  2.97365355,\n",
       "        2.44392874,  2.4085222 ,  2.2350267 ,  1.53928202,  2.78436746,\n",
       "        2.09599362,  2.3601313 ,  2.3484284 ,  2.20374172,  2.05017262,\n",
       "        1.32399772,  2.24175684,  1.80053573,  2.18317551,  2.2350752 ,\n",
       "        1.75901415,  2.3498906 ,  2.39402825,  2.344294  ,  2.42627675,\n",
       "        2.27841339,  1.55403622])"
      ]
     },
     "execution_count": 73,
     "metadata": {},
     "output_type": "execute_result"
    }
   ],
   "source": [
    "# set x and y\n",
    "xlist = np.log10(densityXpc_cut['0_x'])\n",
    "ylist = np.log10(densityXpc_cut['0_y'])\n",
    "\n",
    "# remove \"infinity\"\n",
    "ylist = ylist[ylist>-1e99]\n",
    "\n",
    "# make samples same size\n",
    "import random\n",
    "np.random.seed(32)\n",
    "xlist_rand = np.random.choice(xlist, len(ylist), replace = False)\n",
    "ylist_rand = np.random.choice(ylist, len(ylist), replace = False)\n",
    "xlist = xlist_rand\n",
    "ylist = ylist_rand"
   ]
  },
  {
   "cell_type": "code",
   "execution_count": 74,
   "metadata": {
    "collapsed": false
   },
   "outputs": [
    {
     "name": "stdout",
     "output_type": "stream",
     "text": [
      "Log-likelihood for 1 degree fit of least squares is: -179.759574305\n",
      "Log-likelihood for 2 degree fit of least squares is: -179.753597183\n"
     ]
    }
   ],
   "source": [
    "# 1 degree line regression = least squares\n",
    "\n",
    "X = sm.add_constant(xlist)\n",
    "fit1 = sm.OLS(ylist, X, missing='drop').fit()\n",
    "\n",
    "print \"Log-likelihood for 1 degree fit of least squares is: {}\".format(fit1.llf)\n",
    "\n",
    "# 2 degree line regression\n",
    "curve = smf.ols(formula = \"y ~ x1 + I(x1) + I((x1**2))\", \n",
    "        data={'x1':xlist,'y': ylist}).fit()\n",
    "\n",
    "print \"Log-likelihood for 2 degree fit of least squares is: {}\".format(curve.llf)"
   ]
  },
  {
   "cell_type": "code",
   "execution_count": 75,
   "metadata": {
    "collapsed": false
   },
   "outputs": [
    {
     "data": {
      "text/plain": [
       "<matplotlib.legend.Legend at 0x10a6e3ed0>"
      ]
     },
     "execution_count": 75,
     "metadata": {},
     "output_type": "execute_result"
    },
    {
     "data": {
      "image/png": "[encoded data removed]",
      "text/plain": [
       "<matplotlib.figure.Figure at 0x109a9eb90>"
      ]
     },
     "metadata": {},
     "output_type": "display_data"
    }
   ],
   "source": [
    "fig = pl.figure(figsize=(10,10))\n",
    "pl.scatter(xlist, ylist)\n",
    "plot(xlist, fit1.predict(), 'k', label=\"l degree\")\n",
    "plot(xlist, curve.predict(), 'ro', label=\"2 degree\")\n",
    "pl.title(\"title\")\n",
    "pl.xlabel(\"xlabel\", fontsize=20)\n",
    "pl.ylabel(\"ylabel\", fontsize=20)\n",
    "#pl.xlim(0,25000)\n",
    "#pl.ylim(0,50)\n",
    "pl.legend(loc=2)"
   ]
  },
  {
   "cell_type": "code",
   "execution_count": 76,
   "metadata": {
    "collapsed": false
   },
   "outputs": [
    {
     "data": {
      "text/plain": [
       "0.011954242411889027"
      ]
     },
     "execution_count": 76,
     "metadata": {},
     "output_type": "execute_result"
    }
   ],
   "source": [
    "# determine better model with loglikelihood ratio\n",
    "lrt = -2*(fit1.llf - curve.llf)\n",
    "lrt"
   ]
  },
  {
   "cell_type": "code",
   "execution_count": 77,
   "metadata": {
    "collapsed": false
   },
   "outputs": [
    {
     "name": "stdout",
     "output_type": "stream",
     "text": [
      "                            OLS Regression Results                            \n",
      "==============================================================================\n",
      "Dep. Variable:                      y   R-squared:                       0.007\n",
      "Model:                            OLS   Adj. R-squared:                  0.004\n",
      "Method:                 Least Squares   F-statistic:                     2.585\n",
      "Date:                Thu, 19 Nov 2015   Prob (F-statistic):              0.109\n",
      "Time:                        20:18:59   Log-Likelihood:                -179.76\n",
      "No. Observations:                 372   AIC:                             363.5\n",
      "Df Residuals:                     370   BIC:                             371.4\n",
      "Df Model:                           1                                         \n",
      "Covariance Type:            nonrobust                                         \n",
      "==============================================================================\n",
      "                 coef    std err          t      P>|t|      [95.0% Conf. Int.]\n",
      "------------------------------------------------------------------------------\n",
      "const          2.5140      0.122     20.616      0.000         2.274     2.754\n",
      "x1            -0.0833      0.052     -1.608      0.109        -0.185     0.019\n",
      "==============================================================================\n",
      "Omnibus:                       20.112   Durbin-Watson:                   1.884\n",
      "Prob(Omnibus):                  0.000   Jarque-Bera (JB):               23.559\n",
      "Skew:                          -0.497   Prob(JB):                     7.66e-06\n",
      "Kurtosis:                       3.729   Cond. No.                         16.6\n",
      "==============================================================================\n",
      "\n",
      "Warnings:\n",
      "[1] Standard Errors assume that the covariance matrix of the errors is correctly specified.\n"
     ]
    }
   ],
   "source": [
    "print fit1.summary()"
   ]
  },
  {
   "cell_type": "code",
   "execution_count": 78,
   "metadata": {
    "collapsed": false
   },
   "outputs": [
    {
     "name": "stdout",
     "output_type": "stream",
     "text": [
      "The Pearson r coefficient is -0.0833010305035. Is the 2-tailed p-value of 0.108706573381 smaller than 0.05?\n",
      "Nope.\n",
      "The correlation is not significant at the 0.05 alpha level.\n"
     ]
    }
   ],
   "source": [
    "# conducting Pearson's test\n",
    "pearson = scipy.stats.pearsonr(xlist, ylist)\n",
    "pearson_alpha = 0.05\n",
    "\n",
    "r,p = pearson\n",
    "def pearson_results(r,p,a):\n",
    "    print(\"The Pearson r coefficient is {}. Is the 2-tailed p-value of {} smaller than {}?\".format(r,p,a))\n",
    "    if p<a:\n",
    "        print (\"Yes.\")\n",
    "    else:\n",
    "        print (\"Nope.\")\n",
    "    \n",
    "    print ('The correlation is {} at the {} alpha level.'.format(('significant' if p<a  else 'not significant'),a)) \n",
    "\n",
    "pearson_results(r,p,pearson_alpha)"
   ]
  },
  {
   "cell_type": "code",
   "execution_count": 327,
   "metadata": {
    "collapsed": true
   },
   "outputs": [],
   "source": [
    "#city_master.to_csv('city_master_out.csv')"
   ]
  },
  {
   "cell_type": "markdown",
   "metadata": {
    "collapsed": true
   },
   "source": [
    "electricity prod vs density?\n",
    "two sample test = center vs outlying\n",
    "multivariate test = center vs outlying vs city (csa)"
   ]
  }
 ],
 "metadata": {
  "kernelspec": {
   "display_name": "Python 2",
   "language": "python",
   "name": "python2"
  },
  "language_info": {
   "codemirror_mode": {
    "name": "ipython",
    "version": 2
   },
   "file_extension": ".py",
   "mimetype": "text/x-python",
   "name": "python",
   "nbconvert_exporter": "python",
   "pygments_lexer": "ipython2",
   "version": "2.7.10"
  }
 },
 "nbformat": 4,
 "nbformat_minor": 0
}
